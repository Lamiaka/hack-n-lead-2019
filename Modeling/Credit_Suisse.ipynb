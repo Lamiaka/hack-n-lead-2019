{
 "cells": [
  {
   "cell_type": "code",
   "execution_count": 1,
   "metadata": {},
   "outputs": [],
   "source": [
    "#Import libraries\n",
    "import pandas as pd\n",
    "import numpy as np\n",
    "import matplotlib.pyplot as plt\n",
    "import seaborn as sns\n",
    "import time\n",
    "from sklearn.model_selection import train_test_split\n",
    "from sklearn.ensemble import RandomForestClassifier\n",
    "from sklearn.metrics import confusion_matrix\n",
    "\n",
    "import warnings\n",
    "warnings.simplefilter(\"ignore\", FutureWarning)"
   ]
  },
  {
   "cell_type": "code",
   "execution_count": 2,
   "metadata": {},
   "outputs": [],
   "source": [
    "large = pd.read_csv('large.csv')"
   ]
  },
  {
   "cell_type": "code",
   "execution_count": 3,
   "metadata": {},
   "outputs": [],
   "source": [
    "labels = pd.read_csv('jeopardy.csv')"
   ]
  },
  {
   "cell_type": "code",
   "execution_count": 4,
   "metadata": {},
   "outputs": [],
   "source": [
    "data = pd.merge(large, labels, how='left',on = 'cif')"
   ]
  },
  {
   "cell_type": "code",
   "execution_count": 5,
   "metadata": {},
   "outputs": [
    {
     "data": {
      "text/html": [
       "<div>\n",
       "<style scoped>\n",
       "    .dataframe tbody tr th:only-of-type {\n",
       "        vertical-align: middle;\n",
       "    }\n",
       "\n",
       "    .dataframe tbody tr th {\n",
       "        vertical-align: top;\n",
       "    }\n",
       "\n",
       "    .dataframe thead th {\n",
       "        text-align: right;\n",
       "    }\n",
       "</style>\n",
       "<table border=\"1\" class=\"dataframe\">\n",
       "  <thead>\n",
       "    <tr style=\"text-align: right;\">\n",
       "      <th></th>\n",
       "      <th>cif</th>\n",
       "      <th>category</th>\n",
       "      <th>turnover</th>\n",
       "      <th>transaction_count</th>\n",
       "      <th>io_ratio</th>\n",
       "      <th>age</th>\n",
       "      <th>nationality</th>\n",
       "      <th>is_pep</th>\n",
       "      <th>inactive_days_average</th>\n",
       "      <th>inactive_days_max</th>\n",
       "      <th>n_of_accounts</th>\n",
       "      <th>distinct_counterparties</th>\n",
       "      <th>channel_risk</th>\n",
       "      <th>atm_withdrawal</th>\n",
       "      <th>atm_deposit</th>\n",
       "      <th>suspicious</th>\n",
       "    </tr>\n",
       "  </thead>\n",
       "  <tbody>\n",
       "    <tr>\n",
       "      <th>count</th>\n",
       "      <td>1.000000e+06</td>\n",
       "      <td>1000000.000000</td>\n",
       "      <td>1.000000e+06</td>\n",
       "      <td>1000000.000000</td>\n",
       "      <td>1000000.000000</td>\n",
       "      <td>1000000.000000</td>\n",
       "      <td>1000000.000000</td>\n",
       "      <td>1000000.000000</td>\n",
       "      <td>1000000.000000</td>\n",
       "      <td>1000000.000000</td>\n",
       "      <td>1000000.000000</td>\n",
       "      <td>1000000.000000</td>\n",
       "      <td>1000000.000000</td>\n",
       "      <td>1.000000e+06</td>\n",
       "      <td>1.000000e+06</td>\n",
       "      <td>1000000.000000</td>\n",
       "    </tr>\n",
       "    <tr>\n",
       "      <th>mean</th>\n",
       "      <td>9.050000e+07</td>\n",
       "      <td>0.400530</td>\n",
       "      <td>2.937814e+07</td>\n",
       "      <td>28.136660</td>\n",
       "      <td>0.331490</td>\n",
       "      <td>31.726469</td>\n",
       "      <td>91.863301</td>\n",
       "      <td>0.006851</td>\n",
       "      <td>44.768997</td>\n",
       "      <td>114.264231</td>\n",
       "      <td>1.996756</td>\n",
       "      <td>6.246905</td>\n",
       "      <td>0.255042</td>\n",
       "      <td>3.212197e+06</td>\n",
       "      <td>1.078914e+05</td>\n",
       "      <td>0.017141</td>\n",
       "    </tr>\n",
       "    <tr>\n",
       "      <th>std</th>\n",
       "      <td>2.886753e+05</td>\n",
       "      <td>0.663837</td>\n",
       "      <td>4.650136e+08</td>\n",
       "      <td>55.464787</td>\n",
       "      <td>0.308724</td>\n",
       "      <td>25.749573</td>\n",
       "      <td>43.678328</td>\n",
       "      <td>0.082487</td>\n",
       "      <td>52.223190</td>\n",
       "      <td>77.830115</td>\n",
       "      <td>0.999137</td>\n",
       "      <td>16.322718</td>\n",
       "      <td>0.174461</td>\n",
       "      <td>1.820511e+08</td>\n",
       "      <td>3.420959e+06</td>\n",
       "      <td>0.129797</td>\n",
       "    </tr>\n",
       "    <tr>\n",
       "      <th>min</th>\n",
       "      <td>9.000000e+07</td>\n",
       "      <td>0.000000</td>\n",
       "      <td>0.000000e+00</td>\n",
       "      <td>0.000000</td>\n",
       "      <td>0.000000</td>\n",
       "      <td>0.000000</td>\n",
       "      <td>24.000000</td>\n",
       "      <td>0.000000</td>\n",
       "      <td>0.120000</td>\n",
       "      <td>1.000000</td>\n",
       "      <td>1.000000</td>\n",
       "      <td>0.000000</td>\n",
       "      <td>0.000026</td>\n",
       "      <td>0.000000e+00</td>\n",
       "      <td>0.000000e+00</td>\n",
       "      <td>0.000000</td>\n",
       "    </tr>\n",
       "    <tr>\n",
       "      <th>25%</th>\n",
       "      <td>9.025000e+07</td>\n",
       "      <td>0.000000</td>\n",
       "      <td>9.053680e+04</td>\n",
       "      <td>1.000000</td>\n",
       "      <td>0.000000</td>\n",
       "      <td>0.000000</td>\n",
       "      <td>82.000000</td>\n",
       "      <td>0.000000</td>\n",
       "      <td>5.680000</td>\n",
       "      <td>72.000000</td>\n",
       "      <td>1.000000</td>\n",
       "      <td>1.000000</td>\n",
       "      <td>0.122934</td>\n",
       "      <td>1.592175e+02</td>\n",
       "      <td>2.249756e+01</td>\n",
       "      <td>0.000000</td>\n",
       "    </tr>\n",
       "    <tr>\n",
       "      <th>50%</th>\n",
       "      <td>9.050000e+07</td>\n",
       "      <td>0.000000</td>\n",
       "      <td>4.316990e+05</td>\n",
       "      <td>3.000000</td>\n",
       "      <td>0.309917</td>\n",
       "      <td>32.000000</td>\n",
       "      <td>90.000000</td>\n",
       "      <td>0.000000</td>\n",
       "      <td>28.220000</td>\n",
       "      <td>95.000000</td>\n",
       "      <td>2.000000</td>\n",
       "      <td>1.000000</td>\n",
       "      <td>0.217838</td>\n",
       "      <td>4.934665e+03</td>\n",
       "      <td>4.699416e+02</td>\n",
       "      <td>0.000000</td>\n",
       "    </tr>\n",
       "    <tr>\n",
       "      <th>75%</th>\n",
       "      <td>9.075000e+07</td>\n",
       "      <td>1.000000</td>\n",
       "      <td>1.529052e+06</td>\n",
       "      <td>30.000000</td>\n",
       "      <td>0.500000</td>\n",
       "      <td>54.000000</td>\n",
       "      <td>123.000000</td>\n",
       "      <td>0.000000</td>\n",
       "      <td>63.520000</td>\n",
       "      <td>131.000000</td>\n",
       "      <td>3.000000</td>\n",
       "      <td>4.000000</td>\n",
       "      <td>0.348258</td>\n",
       "      <td>4.920691e+04</td>\n",
       "      <td>3.577423e+03</td>\n",
       "      <td>0.000000</td>\n",
       "    </tr>\n",
       "    <tr>\n",
       "      <th>max</th>\n",
       "      <td>9.100000e+07</td>\n",
       "      <td>2.000000</td>\n",
       "      <td>1.308870e+11</td>\n",
       "      <td>1472.000000</td>\n",
       "      <td>1.000000</td>\n",
       "      <td>126.000000</td>\n",
       "      <td>187.000000</td>\n",
       "      <td>1.000000</td>\n",
       "      <td>1281.110000</td>\n",
       "      <td>1295.000000</td>\n",
       "      <td>10.000000</td>\n",
       "      <td>700.000000</td>\n",
       "      <td>0.998780</td>\n",
       "      <td>1.186690e+11</td>\n",
       "      <td>2.155327e+09</td>\n",
       "      <td>1.000000</td>\n",
       "    </tr>\n",
       "  </tbody>\n",
       "</table>\n",
       "</div>"
      ],
      "text/plain": [
       "                cif        category      turnover  transaction_count  \\\n",
       "count  1.000000e+06  1000000.000000  1.000000e+06     1000000.000000   \n",
       "mean   9.050000e+07        0.400530  2.937814e+07          28.136660   \n",
       "std    2.886753e+05        0.663837  4.650136e+08          55.464787   \n",
       "min    9.000000e+07        0.000000  0.000000e+00           0.000000   \n",
       "25%    9.025000e+07        0.000000  9.053680e+04           1.000000   \n",
       "50%    9.050000e+07        0.000000  4.316990e+05           3.000000   \n",
       "75%    9.075000e+07        1.000000  1.529052e+06          30.000000   \n",
       "max    9.100000e+07        2.000000  1.308870e+11        1472.000000   \n",
       "\n",
       "             io_ratio             age     nationality          is_pep  \\\n",
       "count  1000000.000000  1000000.000000  1000000.000000  1000000.000000   \n",
       "mean         0.331490       31.726469       91.863301        0.006851   \n",
       "std          0.308724       25.749573       43.678328        0.082487   \n",
       "min          0.000000        0.000000       24.000000        0.000000   \n",
       "25%          0.000000        0.000000       82.000000        0.000000   \n",
       "50%          0.309917       32.000000       90.000000        0.000000   \n",
       "75%          0.500000       54.000000      123.000000        0.000000   \n",
       "max          1.000000      126.000000      187.000000        1.000000   \n",
       "\n",
       "       inactive_days_average  inactive_days_max   n_of_accounts  \\\n",
       "count         1000000.000000     1000000.000000  1000000.000000   \n",
       "mean               44.768997         114.264231        1.996756   \n",
       "std                52.223190          77.830115        0.999137   \n",
       "min                 0.120000           1.000000        1.000000   \n",
       "25%                 5.680000          72.000000        1.000000   \n",
       "50%                28.220000          95.000000        2.000000   \n",
       "75%                63.520000         131.000000        3.000000   \n",
       "max              1281.110000        1295.000000       10.000000   \n",
       "\n",
       "       distinct_counterparties    channel_risk  atm_withdrawal   atm_deposit  \\\n",
       "count           1000000.000000  1000000.000000    1.000000e+06  1.000000e+06   \n",
       "mean                  6.246905        0.255042    3.212197e+06  1.078914e+05   \n",
       "std                  16.322718        0.174461    1.820511e+08  3.420959e+06   \n",
       "min                   0.000000        0.000026    0.000000e+00  0.000000e+00   \n",
       "25%                   1.000000        0.122934    1.592175e+02  2.249756e+01   \n",
       "50%                   1.000000        0.217838    4.934665e+03  4.699416e+02   \n",
       "75%                   4.000000        0.348258    4.920691e+04  3.577423e+03   \n",
       "max                 700.000000        0.998780    1.186690e+11  2.155327e+09   \n",
       "\n",
       "           suspicious  \n",
       "count  1000000.000000  \n",
       "mean         0.017141  \n",
       "std          0.129797  \n",
       "min          0.000000  \n",
       "25%          0.000000  \n",
       "50%          0.000000  \n",
       "75%          0.000000  \n",
       "max          1.000000  "
      ]
     },
     "execution_count": 5,
     "metadata": {},
     "output_type": "execute_result"
    }
   ],
   "source": [
    "data.describe()"
   ]
  },
  {
   "cell_type": "code",
   "execution_count": 6,
   "metadata": {},
   "outputs": [
    {
     "name": "stdout",
     "output_type": "stream",
     "text": [
      "<class 'pandas.core.frame.DataFrame'>\n",
      "Int64Index: 1000000 entries, 0 to 999999\n",
      "Data columns (total 16 columns):\n",
      "cif                        1000000 non-null int64\n",
      "category                   1000000 non-null int64\n",
      "turnover                   1000000 non-null float64\n",
      "transaction_count          1000000 non-null int64\n",
      "io_ratio                   1000000 non-null float64\n",
      "age                        1000000 non-null int64\n",
      "nationality                1000000 non-null int64\n",
      "is_pep                     1000000 non-null int64\n",
      "inactive_days_average      1000000 non-null float64\n",
      "inactive_days_max          1000000 non-null int64\n",
      "n_of_accounts              1000000 non-null int64\n",
      "distinct_counterparties    1000000 non-null int64\n",
      "channel_risk               1000000 non-null float64\n",
      "atm_withdrawal             1000000 non-null float64\n",
      "atm_deposit                1000000 non-null float64\n",
      "suspicious                 1000000 non-null int64\n",
      "dtypes: float64(6), int64(10)\n",
      "memory usage: 129.7 MB\n"
     ]
    }
   ],
   "source": [
    "data.info()"
   ]
  },
  {
   "cell_type": "code",
   "execution_count": 7,
   "metadata": {},
   "outputs": [
    {
     "data": {
      "text/plain": [
       "Index(['cif', 'category', 'turnover', 'transaction_count', 'io_ratio', 'age',\n",
       "       'nationality', 'is_pep', 'inactive_days_average', 'inactive_days_max',\n",
       "       'n_of_accounts', 'distinct_counterparties', 'channel_risk',\n",
       "       'atm_withdrawal', 'atm_deposit', 'suspicious'],\n",
       "      dtype='object')"
      ]
     },
     "execution_count": 7,
     "metadata": {},
     "output_type": "execute_result"
    }
   ],
   "source": [
    "data.columns"
   ]
  },
  {
   "cell_type": "code",
   "execution_count": 8,
   "metadata": {},
   "outputs": [],
   "source": [
    "features = ['category', 'turnover', 'transaction_count', 'io_ratio', 'age',\n",
    "       'nationality', 'is_pep', 'inactive_days_average', 'inactive_days_max',\n",
    "       'n_of_accounts', 'distinct_counterparties', 'channel_risk',\n",
    "       'atm_withdrawal', 'atm_deposit']"
   ]
  },
  {
   "cell_type": "code",
   "execution_count": 9,
   "metadata": {},
   "outputs": [],
   "source": [
    "X_train, X_test, y_train, y_test = train_test_split(data[features], data['suspicious'], test_size=0.3, random_state=42)"
   ]
  },
  {
   "cell_type": "code",
   "execution_count": 10,
   "metadata": {},
   "outputs": [
    {
     "name": "stdout",
     "output_type": "stream",
     "text": [
      "<class 'pandas.core.frame.DataFrame'>\n",
      "Int64Index: 700000 entries, 506532 to 121958\n",
      "Data columns (total 14 columns):\n",
      "category                   700000 non-null int64\n",
      "turnover                   700000 non-null float64\n",
      "transaction_count          700000 non-null int64\n",
      "io_ratio                   700000 non-null float64\n",
      "age                        700000 non-null int64\n",
      "nationality                700000 non-null int64\n",
      "is_pep                     700000 non-null int64\n",
      "inactive_days_average      700000 non-null float64\n",
      "inactive_days_max          700000 non-null int64\n",
      "n_of_accounts              700000 non-null int64\n",
      "distinct_counterparties    700000 non-null int64\n",
      "channel_risk               700000 non-null float64\n",
      "atm_withdrawal             700000 non-null float64\n",
      "atm_deposit                700000 non-null float64\n",
      "dtypes: float64(6), int64(8)\n",
      "memory usage: 80.1 MB\n"
     ]
    }
   ],
   "source": [
    "X_train.info()"
   ]
  },
  {
   "cell_type": "code",
   "execution_count": 11,
   "metadata": {},
   "outputs": [
    {
     "name": "stdout",
     "output_type": "stream",
     "text": [
      "--- 205.77743911743164 seconds ---\n",
      "tn, fp, fn, tp: 294790 51 4529 630\n"
     ]
    }
   ],
   "source": [
    "#Start time to measure how much time it gets our classifier to train a model\n",
    "start_time = time.time()\n",
    "# class_weight='balanced' to deal with a problem with highly imbalanced dataset\n",
    "rf =  RandomForestClassifier(n_estimators=100, class_weight='balanced', random_state = 42)\n",
    "rf.fit(X_train, y_train)\n",
    "preds = rf.predict(X_test)\n",
    "print(\"--- %s seconds ---\" % (time.time() - start_time))\n",
    "#Using confusion matrix as our metrics\n",
    "tn, fp, fn, tp = confusion_matrix(y_test, preds).ravel()\n",
    "print(\"tn, fp, fn, tp:\", tn, fp, fn, tp)"
   ]
  },
  {
   "cell_type": "code",
   "execution_count": 15,
   "metadata": {},
   "outputs": [
    {
     "data": {
      "image/png": "[encoded data removed]",
      "text/plain": [
       "<Figure size 432x288 with 2 Axes>"
      ]
     },
     "metadata": {
      "needs_background": "light"
     },
     "output_type": "display_data"
    },
    {
     "name": "stdout",
     "output_type": "stream",
     "text": [
      "Number of total customers in test set: 300000\n",
      "Number of customer without suspicious behaviour: 294841\n",
      "Number of customer withsuspicious behaviour: 5159\n"
     ]
    }
   ],
   "source": [
    "#Calculating the size od test set, suspisious number of customer and non-suspisiouc number of customers\n",
    "s = len(X_test)\n",
    "f = y_test.sum()\n",
    "non_f = s - f\n",
    "#Plotting confusion matrix as a heatmap and see how many (%) we get right/wrong among suspicious and non-suspicious customers\n",
    "ax = sns.heatmap([[tn/non_f*100, fp/non_f*100],[fn/f*100, tp/f*100]],annot_kws={\"size\": 18},annot=True,fmt=\".2f\", cmap='YlGnBu')\n",
    "for t in ax.texts: t.set_text(t.get_text() + \" %\")\n",
    "plt.xlabel(\"Predicted\")\n",
    "plt.ylabel(\"Actual\")\n",
    "ax.set_xticklabels([\"No\", \"Yes\"])\n",
    "ax.set_yticklabels([\"No\", \"Yes\"])\n",
    "plt.show()\n",
    "print(\"Number of total customers in test set:\", s)\n",
    "print(\"Number of customer without suspicious behaviour:\", non_f)\n",
    "print(\"Number of customer withsuspicious behaviour:\", f)"
   ]
  },
  {
   "cell_type": "code",
   "execution_count": 30,
   "metadata": {},
   "outputs": [
    {
     "data": {
      "text/html": [
       "<div>\n",
       "<style scoped>\n",
       "    .dataframe tbody tr th:only-of-type {\n",
       "        vertical-align: middle;\n",
       "    }\n",
       "\n",
       "    .dataframe tbody tr th {\n",
       "        vertical-align: top;\n",
       "    }\n",
       "\n",
       "    .dataframe thead th {\n",
       "        text-align: right;\n",
       "    }\n",
       "</style>\n",
       "<table border=\"1\" class=\"dataframe\">\n",
       "  <thead>\n",
       "    <tr style=\"text-align: right;\">\n",
       "      <th></th>\n",
       "      <th>Importance</th>\n",
       "    </tr>\n",
       "  </thead>\n",
       "  <tbody>\n",
       "    <tr>\n",
       "      <th>io_ratio</th>\n",
       "      <td>0.141345</td>\n",
       "    </tr>\n",
       "    <tr>\n",
       "      <th>age</th>\n",
       "      <td>0.117149</td>\n",
       "    </tr>\n",
       "    <tr>\n",
       "      <th>turnover</th>\n",
       "      <td>0.116277</td>\n",
       "    </tr>\n",
       "    <tr>\n",
       "      <th>atm_withdrawal</th>\n",
       "      <td>0.116037</td>\n",
       "    </tr>\n",
       "    <tr>\n",
       "      <th>inactive_days_average</th>\n",
       "      <td>0.092435</td>\n",
       "    </tr>\n",
       "    <tr>\n",
       "      <th>channel_risk</th>\n",
       "      <td>0.092351</td>\n",
       "    </tr>\n",
       "    <tr>\n",
       "      <th>inactive_days_max</th>\n",
       "      <td>0.074397</td>\n",
       "    </tr>\n",
       "    <tr>\n",
       "      <th>atm_deposit</th>\n",
       "      <td>0.071815</td>\n",
       "    </tr>\n",
       "    <tr>\n",
       "      <th>nationality</th>\n",
       "      <td>0.056876</td>\n",
       "    </tr>\n",
       "    <tr>\n",
       "      <th>transaction_count</th>\n",
       "      <td>0.055933</td>\n",
       "    </tr>\n",
       "    <tr>\n",
       "      <th>n_of_accounts</th>\n",
       "      <td>0.024705</td>\n",
       "    </tr>\n",
       "    <tr>\n",
       "      <th>distinct_counterparties</th>\n",
       "      <td>0.021614</td>\n",
       "    </tr>\n",
       "    <tr>\n",
       "      <th>category</th>\n",
       "      <td>0.018417</td>\n",
       "    </tr>\n",
       "    <tr>\n",
       "      <th>is_pep</th>\n",
       "      <td>0.000649</td>\n",
       "    </tr>\n",
       "  </tbody>\n",
       "</table>\n",
       "</div>"
      ],
      "text/plain": [
       "                         Importance\n",
       "io_ratio                   0.141345\n",
       "age                        0.117149\n",
       "turnover                   0.116277\n",
       "atm_withdrawal             0.116037\n",
       "inactive_days_average      0.092435\n",
       "channel_risk               0.092351\n",
       "inactive_days_max          0.074397\n",
       "atm_deposit                0.071815\n",
       "nationality                0.056876\n",
       "transaction_count          0.055933\n",
       "n_of_accounts              0.024705\n",
       "distinct_counterparties    0.021614\n",
       "category                   0.018417\n",
       "is_pep                     0.000649"
      ]
     },
     "execution_count": 30,
     "metadata": {},
     "output_type": "execute_result"
    }
   ],
   "source": [
    "importance = pd.DataFrame(rf.feature_importances_)\n",
    "importance.index = features\n",
    "df = importance.rename(columns={0:\"Importance\"}).sort_values(by='Importance', ascending=False)\n",
    "df"
   ]
  },
  {
   "cell_type": "code",
   "execution_count": 33,
   "metadata": {},
   "outputs": [
    {
     "data": {
      "text/plain": [
       "io_ratio                 0.141345\n",
       "age                      0.117149\n",
       "turnover                 0.116277\n",
       "atm_withdrawal           0.116037\n",
       "inactive_days_average    0.092435\n",
       "channel_risk             0.092351\n",
       "Name: Importance, dtype: float64"
      ]
     },
     "execution_count": 33,
     "metadata": {},
     "output_type": "execute_result"
    }
   ],
   "source": [
    "df.Importance.nlargest(6)"
   ]
  },
  {
   "cell_type": "code",
   "execution_count": null,
   "metadata": {},
   "outputs": [],
   "source": []
  }
 ],
 "metadata": {
  "kernelspec": {
   "display_name": "Python 3",
   "language": "python",
   "name": "python3"
  },
  "language_info": {
   "codemirror_mode": {
    "name": "ipython",
    "version": 3
   },
   "file_extension": ".py",
   "mimetype": "text/x-python",
   "name": "python",
   "nbconvert_exporter": "python",
   "pygments_lexer": "ipython3",
   "version": "3.7.3"
  }
 },
 "nbformat": 4,
 "nbformat_minor": 2
}
