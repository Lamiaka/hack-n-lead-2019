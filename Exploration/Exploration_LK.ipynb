{
 "cells": [
  {
   "cell_type": "code",
   "execution_count": 2,
   "metadata": {},
   "outputs": [],
   "source": [
    "import pandas as pd\n",
    "import matplotlib.pyplot as plt\n",
    "import numpy as np\n",
    "from scipy.stats import norm\n",
    "import seaborn as sns\n",
    "import os "
   ]
  },
  {
   "cell_type": "code",
   "execution_count": 16,
   "metadata": {},
   "outputs": [
    {
     "data": {
      "text/plain": [
       "'/Users/lamiakasmi/Documents/Hackathon/HackNLead2019/hack-n-lead-2019-template-repository/Data'"
      ]
     },
     "execution_count": 16,
     "metadata": {},
     "output_type": "execute_result"
    }
   ],
   "source": [
    "datafile = os.path.join(os.path.dirname(os.getcwd()),'Data')\n",
    "data = pd.read_csv(datafile+'/large.csv')"
   ]
  },
  {
   "cell_type": "code",
   "execution_count": 41,
   "metadata": {},
   "outputs": [
    {
     "data": {
      "text/html": [
       "<div>\n",
       "<style scoped>\n",
       "    .dataframe tbody tr th:only-of-type {\n",
       "        vertical-align: middle;\n",
       "    }\n",
       "\n",
       "    .dataframe tbody tr th {\n",
       "        vertical-align: top;\n",
       "    }\n",
       "\n",
       "    .dataframe thead th {\n",
       "        text-align: right;\n",
       "    }\n",
       "</style>\n",
       "<table border=\"1\" class=\"dataframe\">\n",
       "  <thead>\n",
       "    <tr style=\"text-align: right;\">\n",
       "      <th></th>\n",
       "      <th>cif</th>\n",
       "      <th>category</th>\n",
       "      <th>turnover</th>\n",
       "      <th>transaction_count</th>\n",
       "      <th>io_ratio</th>\n",
       "      <th>age</th>\n",
       "      <th>nationality</th>\n",
       "      <th>is_pep</th>\n",
       "      <th>inactive_days_average</th>\n",
       "      <th>inactive_days_max</th>\n",
       "      <th>n_of_accounts</th>\n",
       "      <th>distinct_counterparties</th>\n",
       "      <th>channel_risk</th>\n",
       "      <th>atm_withdrawal</th>\n",
       "      <th>atm_deposit</th>\n",
       "    </tr>\n",
       "  </thead>\n",
       "  <tbody>\n",
       "    <tr>\n",
       "      <th>0</th>\n",
       "      <td>90000000</td>\n",
       "      <td>0</td>\n",
       "      <td>217673.05</td>\n",
       "      <td>125</td>\n",
       "      <td>0.304000</td>\n",
       "      <td>40</td>\n",
       "      <td>123</td>\n",
       "      <td>0</td>\n",
       "      <td>1.66</td>\n",
       "      <td>88</td>\n",
       "      <td>1</td>\n",
       "      <td>3</td>\n",
       "      <td>0.254742</td>\n",
       "      <td>1937.15</td>\n",
       "      <td>2161.790028</td>\n",
       "    </tr>\n",
       "    <tr>\n",
       "      <th>1</th>\n",
       "      <td>90000001</td>\n",
       "      <td>0</td>\n",
       "      <td>57.42</td>\n",
       "      <td>20</td>\n",
       "      <td>0.250000</td>\n",
       "      <td>17</td>\n",
       "      <td>90</td>\n",
       "      <td>0</td>\n",
       "      <td>7.32</td>\n",
       "      <td>88</td>\n",
       "      <td>4</td>\n",
       "      <td>6</td>\n",
       "      <td>0.393174</td>\n",
       "      <td>4.96</td>\n",
       "      <td>0.893866</td>\n",
       "    </tr>\n",
       "    <tr>\n",
       "      <th>2</th>\n",
       "      <td>90000002</td>\n",
       "      <td>0</td>\n",
       "      <td>1465076.90</td>\n",
       "      <td>1</td>\n",
       "      <td>0.000000</td>\n",
       "      <td>66</td>\n",
       "      <td>123</td>\n",
       "      <td>0</td>\n",
       "      <td>24.08</td>\n",
       "      <td>25</td>\n",
       "      <td>2</td>\n",
       "      <td>1</td>\n",
       "      <td>0.422991</td>\n",
       "      <td>0.00</td>\n",
       "      <td>229.333494</td>\n",
       "    </tr>\n",
       "    <tr>\n",
       "      <th>3</th>\n",
       "      <td>90000003</td>\n",
       "      <td>0</td>\n",
       "      <td>429840.54</td>\n",
       "      <td>46</td>\n",
       "      <td>0.239130</td>\n",
       "      <td>43</td>\n",
       "      <td>90</td>\n",
       "      <td>0</td>\n",
       "      <td>3.88</td>\n",
       "      <td>86</td>\n",
       "      <td>2</td>\n",
       "      <td>17</td>\n",
       "      <td>0.296019</td>\n",
       "      <td>43123.33</td>\n",
       "      <td>3121.939606</td>\n",
       "    </tr>\n",
       "    <tr>\n",
       "      <th>4</th>\n",
       "      <td>90000004</td>\n",
       "      <td>2</td>\n",
       "      <td>93356190.65</td>\n",
       "      <td>63</td>\n",
       "      <td>0.365079</td>\n",
       "      <td>0</td>\n",
       "      <td>186</td>\n",
       "      <td>0</td>\n",
       "      <td>2.77</td>\n",
       "      <td>100</td>\n",
       "      <td>1</td>\n",
       "      <td>1</td>\n",
       "      <td>0.067511</td>\n",
       "      <td>1814340.25</td>\n",
       "      <td>603026.545700</td>\n",
       "    </tr>\n",
       "  </tbody>\n",
       "</table>\n",
       "</div>"
      ],
      "text/plain": [
       "        cif  category     turnover  transaction_count  io_ratio  age  \\\n",
       "0  90000000         0    217673.05                125  0.304000   40   \n",
       "1  90000001         0        57.42                 20  0.250000   17   \n",
       "2  90000002         0   1465076.90                  1  0.000000   66   \n",
       "3  90000003         0    429840.54                 46  0.239130   43   \n",
       "4  90000004         2  93356190.65                 63  0.365079    0   \n",
       "\n",
       "   nationality  is_pep  inactive_days_average  inactive_days_max  \\\n",
       "0          123       0                   1.66                 88   \n",
       "1           90       0                   7.32                 88   \n",
       "2          123       0                  24.08                 25   \n",
       "3           90       0                   3.88                 86   \n",
       "4          186       0                   2.77                100   \n",
       "\n",
       "   n_of_accounts  distinct_counterparties  channel_risk  atm_withdrawal  \\\n",
       "0              1                        3      0.254742         1937.15   \n",
       "1              4                        6      0.393174            4.96   \n",
       "2              2                        1      0.422991            0.00   \n",
       "3              2                       17      0.296019        43123.33   \n",
       "4              1                        1      0.067511      1814340.25   \n",
       "\n",
       "     atm_deposit  \n",
       "0    2161.790028  \n",
       "1       0.893866  \n",
       "2     229.333494  \n",
       "3    3121.939606  \n",
       "4  603026.545700  "
      ]
     },
     "execution_count": 41,
     "metadata": {},
     "output_type": "execute_result"
    }
   ],
   "source": [
    "data.head()"
   ]
  },
  {
   "cell_type": "code",
   "execution_count": 42,
   "metadata": {},
   "outputs": [
    {
     "data": {
      "text/html": [
       "<div>\n",
       "<style scoped>\n",
       "    .dataframe tbody tr th:only-of-type {\n",
       "        vertical-align: middle;\n",
       "    }\n",
       "\n",
       "    .dataframe tbody tr th {\n",
       "        vertical-align: top;\n",
       "    }\n",
       "\n",
       "    .dataframe thead th {\n",
       "        text-align: right;\n",
       "    }\n",
       "</style>\n",
       "<table border=\"1\" class=\"dataframe\">\n",
       "  <thead>\n",
       "    <tr style=\"text-align: right;\">\n",
       "      <th></th>\n",
       "      <th>cif</th>\n",
       "      <th>category</th>\n",
       "      <th>turnover</th>\n",
       "      <th>transaction_count</th>\n",
       "      <th>io_ratio</th>\n",
       "      <th>age</th>\n",
       "      <th>nationality</th>\n",
       "      <th>is_pep</th>\n",
       "      <th>inactive_days_average</th>\n",
       "      <th>inactive_days_max</th>\n",
       "      <th>n_of_accounts</th>\n",
       "      <th>distinct_counterparties</th>\n",
       "      <th>channel_risk</th>\n",
       "      <th>atm_withdrawal</th>\n",
       "      <th>atm_deposit</th>\n",
       "    </tr>\n",
       "  </thead>\n",
       "  <tbody>\n",
       "    <tr>\n",
       "      <th>count</th>\n",
       "      <td>1.000000e+06</td>\n",
       "      <td>1000000.000000</td>\n",
       "      <td>1.000000e+06</td>\n",
       "      <td>1000000.000000</td>\n",
       "      <td>1000000.000000</td>\n",
       "      <td>1000000.000000</td>\n",
       "      <td>1000000.000000</td>\n",
       "      <td>1000000.000000</td>\n",
       "      <td>1000000.000000</td>\n",
       "      <td>1000000.000000</td>\n",
       "      <td>1000000.000000</td>\n",
       "      <td>1000000.000000</td>\n",
       "      <td>1000000.000000</td>\n",
       "      <td>1.000000e+06</td>\n",
       "      <td>1.000000e+06</td>\n",
       "    </tr>\n",
       "    <tr>\n",
       "      <th>mean</th>\n",
       "      <td>9.050000e+07</td>\n",
       "      <td>0.400530</td>\n",
       "      <td>2.937814e+07</td>\n",
       "      <td>28.136660</td>\n",
       "      <td>0.331490</td>\n",
       "      <td>31.726469</td>\n",
       "      <td>91.863301</td>\n",
       "      <td>0.006851</td>\n",
       "      <td>44.768997</td>\n",
       "      <td>114.264231</td>\n",
       "      <td>1.996756</td>\n",
       "      <td>6.246905</td>\n",
       "      <td>0.255042</td>\n",
       "      <td>3.212197e+06</td>\n",
       "      <td>1.078914e+05</td>\n",
       "    </tr>\n",
       "    <tr>\n",
       "      <th>std</th>\n",
       "      <td>2.886753e+05</td>\n",
       "      <td>0.663837</td>\n",
       "      <td>4.650136e+08</td>\n",
       "      <td>55.464787</td>\n",
       "      <td>0.308724</td>\n",
       "      <td>25.749573</td>\n",
       "      <td>43.678328</td>\n",
       "      <td>0.082487</td>\n",
       "      <td>52.223190</td>\n",
       "      <td>77.830115</td>\n",
       "      <td>0.999137</td>\n",
       "      <td>16.322718</td>\n",
       "      <td>0.174461</td>\n",
       "      <td>1.820511e+08</td>\n",
       "      <td>3.420959e+06</td>\n",
       "    </tr>\n",
       "    <tr>\n",
       "      <th>min</th>\n",
       "      <td>9.000000e+07</td>\n",
       "      <td>0.000000</td>\n",
       "      <td>0.000000e+00</td>\n",
       "      <td>0.000000</td>\n",
       "      <td>0.000000</td>\n",
       "      <td>0.000000</td>\n",
       "      <td>24.000000</td>\n",
       "      <td>0.000000</td>\n",
       "      <td>0.120000</td>\n",
       "      <td>1.000000</td>\n",
       "      <td>1.000000</td>\n",
       "      <td>0.000000</td>\n",
       "      <td>0.000026</td>\n",
       "      <td>0.000000e+00</td>\n",
       "      <td>0.000000e+00</td>\n",
       "    </tr>\n",
       "    <tr>\n",
       "      <th>25%</th>\n",
       "      <td>9.025000e+07</td>\n",
       "      <td>0.000000</td>\n",
       "      <td>9.053680e+04</td>\n",
       "      <td>1.000000</td>\n",
       "      <td>0.000000</td>\n",
       "      <td>0.000000</td>\n",
       "      <td>82.000000</td>\n",
       "      <td>0.000000</td>\n",
       "      <td>5.680000</td>\n",
       "      <td>72.000000</td>\n",
       "      <td>1.000000</td>\n",
       "      <td>1.000000</td>\n",
       "      <td>0.122934</td>\n",
       "      <td>1.592175e+02</td>\n",
       "      <td>2.249756e+01</td>\n",
       "    </tr>\n",
       "    <tr>\n",
       "      <th>50%</th>\n",
       "      <td>9.050000e+07</td>\n",
       "      <td>0.000000</td>\n",
       "      <td>4.316990e+05</td>\n",
       "      <td>3.000000</td>\n",
       "      <td>0.309917</td>\n",
       "      <td>32.000000</td>\n",
       "      <td>90.000000</td>\n",
       "      <td>0.000000</td>\n",
       "      <td>28.220000</td>\n",
       "      <td>95.000000</td>\n",
       "      <td>2.000000</td>\n",
       "      <td>1.000000</td>\n",
       "      <td>0.217838</td>\n",
       "      <td>4.934665e+03</td>\n",
       "      <td>4.699416e+02</td>\n",
       "    </tr>\n",
       "    <tr>\n",
       "      <th>75%</th>\n",
       "      <td>9.075000e+07</td>\n",
       "      <td>1.000000</td>\n",
       "      <td>1.529052e+06</td>\n",
       "      <td>30.000000</td>\n",
       "      <td>0.500000</td>\n",
       "      <td>54.000000</td>\n",
       "      <td>123.000000</td>\n",
       "      <td>0.000000</td>\n",
       "      <td>63.520000</td>\n",
       "      <td>131.000000</td>\n",
       "      <td>3.000000</td>\n",
       "      <td>4.000000</td>\n",
       "      <td>0.348258</td>\n",
       "      <td>4.920691e+04</td>\n",
       "      <td>3.577423e+03</td>\n",
       "    </tr>\n",
       "    <tr>\n",
       "      <th>max</th>\n",
       "      <td>9.100000e+07</td>\n",
       "      <td>2.000000</td>\n",
       "      <td>1.308870e+11</td>\n",
       "      <td>1472.000000</td>\n",
       "      <td>1.000000</td>\n",
       "      <td>126.000000</td>\n",
       "      <td>187.000000</td>\n",
       "      <td>1.000000</td>\n",
       "      <td>1281.110000</td>\n",
       "      <td>1295.000000</td>\n",
       "      <td>10.000000</td>\n",
       "      <td>700.000000</td>\n",
       "      <td>0.998780</td>\n",
       "      <td>1.186690e+11</td>\n",
       "      <td>2.155327e+09</td>\n",
       "    </tr>\n",
       "  </tbody>\n",
       "</table>\n",
       "</div>"
      ],
      "text/plain": [
       "                cif        category      turnover  transaction_count  \\\n",
       "count  1.000000e+06  1000000.000000  1.000000e+06     1000000.000000   \n",
       "mean   9.050000e+07        0.400530  2.937814e+07          28.136660   \n",
       "std    2.886753e+05        0.663837  4.650136e+08          55.464787   \n",
       "min    9.000000e+07        0.000000  0.000000e+00           0.000000   \n",
       "25%    9.025000e+07        0.000000  9.053680e+04           1.000000   \n",
       "50%    9.050000e+07        0.000000  4.316990e+05           3.000000   \n",
       "75%    9.075000e+07        1.000000  1.529052e+06          30.000000   \n",
       "max    9.100000e+07        2.000000  1.308870e+11        1472.000000   \n",
       "\n",
       "             io_ratio             age     nationality          is_pep  \\\n",
       "count  1000000.000000  1000000.000000  1000000.000000  1000000.000000   \n",
       "mean         0.331490       31.726469       91.863301        0.006851   \n",
       "std          0.308724       25.749573       43.678328        0.082487   \n",
       "min          0.000000        0.000000       24.000000        0.000000   \n",
       "25%          0.000000        0.000000       82.000000        0.000000   \n",
       "50%          0.309917       32.000000       90.000000        0.000000   \n",
       "75%          0.500000       54.000000      123.000000        0.000000   \n",
       "max          1.000000      126.000000      187.000000        1.000000   \n",
       "\n",
       "       inactive_days_average  inactive_days_max   n_of_accounts  \\\n",
       "count         1000000.000000     1000000.000000  1000000.000000   \n",
       "mean               44.768997         114.264231        1.996756   \n",
       "std                52.223190          77.830115        0.999137   \n",
       "min                 0.120000           1.000000        1.000000   \n",
       "25%                 5.680000          72.000000        1.000000   \n",
       "50%                28.220000          95.000000        2.000000   \n",
       "75%                63.520000         131.000000        3.000000   \n",
       "max              1281.110000        1295.000000       10.000000   \n",
       "\n",
       "       distinct_counterparties    channel_risk  atm_withdrawal   atm_deposit  \n",
       "count           1000000.000000  1000000.000000    1.000000e+06  1.000000e+06  \n",
       "mean                  6.246905        0.255042    3.212197e+06  1.078914e+05  \n",
       "std                  16.322718        0.174461    1.820511e+08  3.420959e+06  \n",
       "min                   0.000000        0.000026    0.000000e+00  0.000000e+00  \n",
       "25%                   1.000000        0.122934    1.592175e+02  2.249756e+01  \n",
       "50%                   1.000000        0.217838    4.934665e+03  4.699416e+02  \n",
       "75%                   4.000000        0.348258    4.920691e+04  3.577423e+03  \n",
       "max                 700.000000        0.998780    1.186690e+11  2.155327e+09  "
      ]
     },
     "execution_count": 42,
     "metadata": {},
     "output_type": "execute_result"
    }
   ],
   "source": [
    "data.describe()"
   ]
  },
  {
   "cell_type": "code",
   "execution_count": 43,
   "metadata": {},
   "outputs": [
    {
     "data": {
      "text/plain": [
       "<matplotlib.axes._subplots.AxesSubplot at 0x1a245a2d30>"
      ]
     },
     "execution_count": 43,
     "metadata": {},
     "output_type": "execute_result"
    },
    {
     "data": {
      "image/png": "[encoded data removed]",
      "text/plain": [
       "<Figure size 432x288 with 1 Axes>"
      ]
     },
     "metadata": {
      "needs_background": "light"
     },
     "output_type": "display_data"
    }
   ],
   "source": [
    "data.turnover.hist(bins = 100)"
   ]
  },
  {
   "cell_type": "code",
   "execution_count": null,
   "metadata": {},
   "outputs": [],
   "source": [
    "data.turnover.hist(bins = 100)"
   ]
  },
  {
   "cell_type": "code",
   "execution_count": 44,
   "metadata": {},
   "outputs": [
    {
     "data": {
      "text/plain": [
       "<matplotlib.axes._subplots.AxesSubplot at 0x1a23e6c9b0>"
      ]
     },
     "execution_count": 44,
     "metadata": {},
     "output_type": "execute_result"
    },
    {
     "data": {
      "image/png": "[encoded data removed]",
      "text/plain": [
       "<Figure size 432x288 with 1 Axes>"
      ]
     },
     "metadata": {
      "needs_background": "light"
     },
     "output_type": "display_data"
    }
   ],
   "source": [
    "data.age.hist()"
   ]
  },
  {
   "cell_type": "code",
   "execution_count": 48,
   "metadata": {},
   "outputs": [
    {
     "data": {
      "text/plain": [
       "<matplotlib.axes._subplots.AxesSubplot at 0x1a24d5da90>"
      ]
     },
     "execution_count": 48,
     "metadata": {},
     "output_type": "execute_result"
    },
    {
     "data": {
      "image/png": "[encoded data removed]",
      "text/plain": [
       "<Figure size 432x288 with 1 Axes>"
      ]
     },
     "metadata": {
      "needs_background": "light"
     },
     "output_type": "display_data"
    }
   ],
   "source": [
    "data.age.hist(bins = )"
   ]
  },
  {
   "cell_type": "code",
   "execution_count": 74,
   "metadata": {},
   "outputs": [
    {
     "name": "stderr",
     "output_type": "stream",
     "text": [
      "/Users/lamiakasmi/anaconda3/lib/python3.7/site-packages/ipykernel_launcher.py:2: SettingWithCopyWarning: \n",
      "A value is trying to be set on a copy of a slice from a DataFrame.\n",
      "Try using .loc[row_indexer,col_indexer] = value instead\n",
      "\n",
      "See the caveats in the documentation: http://pandas.pydata.org/pandas-docs/stable/indexing.html#indexing-view-versus-copy\n",
      "  \n"
     ]
    }
   ],
   "source": [
    "data['io_atm_ratio'] = data['atm_deposit']/data['atm_withdrawal']\n",
    "df0 = data[data['category']==0]\n",
    "df1 = data[data['category']==1]\n",
    "df2 = data[data['category']==2]"
   ]
  },
  {
   "cell_type": "code",
   "execution_count": 88,
   "metadata": {},
   "outputs": [],
   "source": [
    "data.loc[data['atm_withdrawal'] == 0,'io_atm_ratio'] = 1e12"
   ]
  },
  {
   "cell_type": "code",
   "execution_count": 92,
   "metadata": {},
   "outputs": [
    {
     "data": {
      "text/html": [
       "<div>\n",
       "<style scoped>\n",
       "    .dataframe tbody tr th:only-of-type {\n",
       "        vertical-align: middle;\n",
       "    }\n",
       "\n",
       "    .dataframe tbody tr th {\n",
       "        vertical-align: top;\n",
       "    }\n",
       "\n",
       "    .dataframe thead th {\n",
       "        text-align: right;\n",
       "    }\n",
       "</style>\n",
       "<table border=\"1\" class=\"dataframe\">\n",
       "  <thead>\n",
       "    <tr style=\"text-align: right;\">\n",
       "      <th></th>\n",
       "      <th>cif</th>\n",
       "      <th>category</th>\n",
       "      <th>turnover</th>\n",
       "      <th>transaction_count</th>\n",
       "      <th>io_ratio</th>\n",
       "      <th>age</th>\n",
       "      <th>nationality</th>\n",
       "      <th>is_pep</th>\n",
       "      <th>inactive_days_average</th>\n",
       "      <th>inactive_days_max</th>\n",
       "      <th>n_of_accounts</th>\n",
       "      <th>distinct_counterparties</th>\n",
       "      <th>channel_risk</th>\n",
       "      <th>atm_withdrawal</th>\n",
       "      <th>atm_deposit</th>\n",
       "      <th>io_atm_ratio</th>\n",
       "    </tr>\n",
       "  </thead>\n",
       "  <tbody>\n",
       "    <tr>\n",
       "      <th>0</th>\n",
       "      <td>90000000</td>\n",
       "      <td>0</td>\n",
       "      <td>217673.05</td>\n",
       "      <td>125</td>\n",
       "      <td>0.304000</td>\n",
       "      <td>40</td>\n",
       "      <td>123</td>\n",
       "      <td>0</td>\n",
       "      <td>1.66</td>\n",
       "      <td>88</td>\n",
       "      <td>1</td>\n",
       "      <td>3</td>\n",
       "      <td>0.254742</td>\n",
       "      <td>1937.15</td>\n",
       "      <td>2161.790028</td>\n",
       "      <td>1.115964e+00</td>\n",
       "    </tr>\n",
       "    <tr>\n",
       "      <th>1</th>\n",
       "      <td>90000001</td>\n",
       "      <td>0</td>\n",
       "      <td>57.42</td>\n",
       "      <td>20</td>\n",
       "      <td>0.250000</td>\n",
       "      <td>17</td>\n",
       "      <td>90</td>\n",
       "      <td>0</td>\n",
       "      <td>7.32</td>\n",
       "      <td>88</td>\n",
       "      <td>4</td>\n",
       "      <td>6</td>\n",
       "      <td>0.393174</td>\n",
       "      <td>4.96</td>\n",
       "      <td>0.893866</td>\n",
       "      <td>1.802149e-01</td>\n",
       "    </tr>\n",
       "    <tr>\n",
       "      <th>2</th>\n",
       "      <td>90000002</td>\n",
       "      <td>0</td>\n",
       "      <td>1465076.90</td>\n",
       "      <td>1</td>\n",
       "      <td>0.000000</td>\n",
       "      <td>66</td>\n",
       "      <td>123</td>\n",
       "      <td>0</td>\n",
       "      <td>24.08</td>\n",
       "      <td>25</td>\n",
       "      <td>2</td>\n",
       "      <td>1</td>\n",
       "      <td>0.422991</td>\n",
       "      <td>0.00</td>\n",
       "      <td>229.333494</td>\n",
       "      <td>1.000000e+12</td>\n",
       "    </tr>\n",
       "    <tr>\n",
       "      <th>3</th>\n",
       "      <td>90000003</td>\n",
       "      <td>0</td>\n",
       "      <td>429840.54</td>\n",
       "      <td>46</td>\n",
       "      <td>0.239130</td>\n",
       "      <td>43</td>\n",
       "      <td>90</td>\n",
       "      <td>0</td>\n",
       "      <td>3.88</td>\n",
       "      <td>86</td>\n",
       "      <td>2</td>\n",
       "      <td>17</td>\n",
       "      <td>0.296019</td>\n",
       "      <td>43123.33</td>\n",
       "      <td>3121.939606</td>\n",
       "      <td>7.239561e-02</td>\n",
       "    </tr>\n",
       "    <tr>\n",
       "      <th>4</th>\n",
       "      <td>90000004</td>\n",
       "      <td>2</td>\n",
       "      <td>93356190.65</td>\n",
       "      <td>63</td>\n",
       "      <td>0.365079</td>\n",
       "      <td>0</td>\n",
       "      <td>186</td>\n",
       "      <td>0</td>\n",
       "      <td>2.77</td>\n",
       "      <td>100</td>\n",
       "      <td>1</td>\n",
       "      <td>1</td>\n",
       "      <td>0.067511</td>\n",
       "      <td>1814340.25</td>\n",
       "      <td>603026.545700</td>\n",
       "      <td>3.323668e-01</td>\n",
       "    </tr>\n",
       "  </tbody>\n",
       "</table>\n",
       "</div>"
      ],
      "text/plain": [
       "        cif  category     turnover  transaction_count  io_ratio  age  \\\n",
       "0  90000000         0    217673.05                125  0.304000   40   \n",
       "1  90000001         0        57.42                 20  0.250000   17   \n",
       "2  90000002         0   1465076.90                  1  0.000000   66   \n",
       "3  90000003         0    429840.54                 46  0.239130   43   \n",
       "4  90000004         2  93356190.65                 63  0.365079    0   \n",
       "\n",
       "   nationality  is_pep  inactive_days_average  inactive_days_max  \\\n",
       "0          123       0                   1.66                 88   \n",
       "1           90       0                   7.32                 88   \n",
       "2          123       0                  24.08                 25   \n",
       "3           90       0                   3.88                 86   \n",
       "4          186       0                   2.77                100   \n",
       "\n",
       "   n_of_accounts  distinct_counterparties  channel_risk  atm_withdrawal  \\\n",
       "0              1                        3      0.254742         1937.15   \n",
       "1              4                        6      0.393174            4.96   \n",
       "2              2                        1      0.422991            0.00   \n",
       "3              2                       17      0.296019        43123.33   \n",
       "4              1                        1      0.067511      1814340.25   \n",
       "\n",
       "     atm_deposit  io_atm_ratio  \n",
       "0    2161.790028  1.115964e+00  \n",
       "1       0.893866  1.802149e-01  \n",
       "2     229.333494  1.000000e+12  \n",
       "3    3121.939606  7.239561e-02  \n",
       "4  603026.545700  3.323668e-01  "
      ]
     },
     "execution_count": 92,
     "metadata": {},
     "output_type": "execute_result"
    }
   ],
   "source": [
    "data.head()"
   ]
  },
  {
   "cell_type": "code",
   "execution_count": 97,
   "metadata": {},
   "outputs": [
    {
     "data": {
      "text/html": [
       "<div>\n",
       "<style scoped>\n",
       "    .dataframe tbody tr th:only-of-type {\n",
       "        vertical-align: middle;\n",
       "    }\n",
       "\n",
       "    .dataframe tbody tr th {\n",
       "        vertical-align: top;\n",
       "    }\n",
       "\n",
       "    .dataframe thead th {\n",
       "        text-align: right;\n",
       "    }\n",
       "</style>\n",
       "<table border=\"1\" class=\"dataframe\">\n",
       "  <thead>\n",
       "    <tr style=\"text-align: right;\">\n",
       "      <th></th>\n",
       "      <th>cif</th>\n",
       "      <th>category</th>\n",
       "      <th>turnover</th>\n",
       "      <th>transaction_count</th>\n",
       "      <th>io_ratio</th>\n",
       "      <th>age</th>\n",
       "      <th>nationality</th>\n",
       "      <th>is_pep</th>\n",
       "      <th>inactive_days_average</th>\n",
       "      <th>inactive_days_max</th>\n",
       "      <th>n_of_accounts</th>\n",
       "      <th>distinct_counterparties</th>\n",
       "      <th>channel_risk</th>\n",
       "      <th>atm_withdrawal</th>\n",
       "      <th>atm_deposit</th>\n",
       "      <th>io_atm_ratio</th>\n",
       "    </tr>\n",
       "  </thead>\n",
       "  <tbody>\n",
       "    <tr>\n",
       "      <th>count</th>\n",
       "      <td>1.000000e+06</td>\n",
       "      <td>1000000.000000</td>\n",
       "      <td>1.000000e+06</td>\n",
       "      <td>1000000.000000</td>\n",
       "      <td>1000000.000000</td>\n",
       "      <td>1000000.000000</td>\n",
       "      <td>1000000.000000</td>\n",
       "      <td>1000000.000000</td>\n",
       "      <td>1000000.000000</td>\n",
       "      <td>1000000.000000</td>\n",
       "      <td>1000000.000000</td>\n",
       "      <td>1000000.000000</td>\n",
       "      <td>1000000.000000</td>\n",
       "      <td>1.000000e+06</td>\n",
       "      <td>1.000000e+06</td>\n",
       "      <td>1.000000e+06</td>\n",
       "    </tr>\n",
       "    <tr>\n",
       "      <th>mean</th>\n",
       "      <td>9.050000e+07</td>\n",
       "      <td>0.400530</td>\n",
       "      <td>2.937814e+07</td>\n",
       "      <td>28.136660</td>\n",
       "      <td>0.331490</td>\n",
       "      <td>31.726469</td>\n",
       "      <td>91.863301</td>\n",
       "      <td>0.006851</td>\n",
       "      <td>44.768997</td>\n",
       "      <td>114.264231</td>\n",
       "      <td>1.996756</td>\n",
       "      <td>6.246905</td>\n",
       "      <td>0.255042</td>\n",
       "      <td>3.212197e+06</td>\n",
       "      <td>1.078914e+05</td>\n",
       "      <td>1.600621e+11</td>\n",
       "    </tr>\n",
       "    <tr>\n",
       "      <th>std</th>\n",
       "      <td>2.886753e+05</td>\n",
       "      <td>0.663837</td>\n",
       "      <td>4.650136e+08</td>\n",
       "      <td>55.464787</td>\n",
       "      <td>0.308724</td>\n",
       "      <td>25.749573</td>\n",
       "      <td>43.678328</td>\n",
       "      <td>0.082487</td>\n",
       "      <td>52.223190</td>\n",
       "      <td>77.830115</td>\n",
       "      <td>0.999137</td>\n",
       "      <td>16.322718</td>\n",
       "      <td>0.174461</td>\n",
       "      <td>1.820511e+08</td>\n",
       "      <td>3.420959e+06</td>\n",
       "      <td>3.666637e+11</td>\n",
       "    </tr>\n",
       "    <tr>\n",
       "      <th>min</th>\n",
       "      <td>9.000000e+07</td>\n",
       "      <td>0.000000</td>\n",
       "      <td>0.000000e+00</td>\n",
       "      <td>0.000000</td>\n",
       "      <td>0.000000</td>\n",
       "      <td>0.000000</td>\n",
       "      <td>24.000000</td>\n",
       "      <td>0.000000</td>\n",
       "      <td>0.120000</td>\n",
       "      <td>1.000000</td>\n",
       "      <td>1.000000</td>\n",
       "      <td>0.000000</td>\n",
       "      <td>0.000026</td>\n",
       "      <td>0.000000e+00</td>\n",
       "      <td>0.000000e+00</td>\n",
       "      <td>0.000000e+00</td>\n",
       "    </tr>\n",
       "    <tr>\n",
       "      <th>25%</th>\n",
       "      <td>9.025000e+07</td>\n",
       "      <td>0.000000</td>\n",
       "      <td>9.053680e+04</td>\n",
       "      <td>1.000000</td>\n",
       "      <td>0.000000</td>\n",
       "      <td>0.000000</td>\n",
       "      <td>82.000000</td>\n",
       "      <td>0.000000</td>\n",
       "      <td>5.680000</td>\n",
       "      <td>72.000000</td>\n",
       "      <td>1.000000</td>\n",
       "      <td>1.000000</td>\n",
       "      <td>0.122934</td>\n",
       "      <td>1.592175e+02</td>\n",
       "      <td>2.249756e+01</td>\n",
       "      <td>2.913382e-03</td>\n",
       "    </tr>\n",
       "    <tr>\n",
       "      <th>50%</th>\n",
       "      <td>9.050000e+07</td>\n",
       "      <td>0.000000</td>\n",
       "      <td>4.316990e+05</td>\n",
       "      <td>3.000000</td>\n",
       "      <td>0.309917</td>\n",
       "      <td>32.000000</td>\n",
       "      <td>90.000000</td>\n",
       "      <td>0.000000</td>\n",
       "      <td>28.220000</td>\n",
       "      <td>95.000000</td>\n",
       "      <td>2.000000</td>\n",
       "      <td>1.000000</td>\n",
       "      <td>0.217838</td>\n",
       "      <td>4.934665e+03</td>\n",
       "      <td>4.699416e+02</td>\n",
       "      <td>4.062977e-02</td>\n",
       "    </tr>\n",
       "    <tr>\n",
       "      <th>75%</th>\n",
       "      <td>9.075000e+07</td>\n",
       "      <td>1.000000</td>\n",
       "      <td>1.529052e+06</td>\n",
       "      <td>30.000000</td>\n",
       "      <td>0.500000</td>\n",
       "      <td>54.000000</td>\n",
       "      <td>123.000000</td>\n",
       "      <td>0.000000</td>\n",
       "      <td>63.520000</td>\n",
       "      <td>131.000000</td>\n",
       "      <td>3.000000</td>\n",
       "      <td>4.000000</td>\n",
       "      <td>0.348258</td>\n",
       "      <td>4.920691e+04</td>\n",
       "      <td>3.577423e+03</td>\n",
       "      <td>2.126432e+00</td>\n",
       "    </tr>\n",
       "    <tr>\n",
       "      <th>max</th>\n",
       "      <td>9.100000e+07</td>\n",
       "      <td>2.000000</td>\n",
       "      <td>1.308870e+11</td>\n",
       "      <td>1472.000000</td>\n",
       "      <td>1.000000</td>\n",
       "      <td>126.000000</td>\n",
       "      <td>187.000000</td>\n",
       "      <td>1.000000</td>\n",
       "      <td>1281.110000</td>\n",
       "      <td>1295.000000</td>\n",
       "      <td>10.000000</td>\n",
       "      <td>700.000000</td>\n",
       "      <td>0.998780</td>\n",
       "      <td>1.186690e+11</td>\n",
       "      <td>2.155327e+09</td>\n",
       "      <td>1.000000e+12</td>\n",
       "    </tr>\n",
       "  </tbody>\n",
       "</table>\n",
       "</div>"
      ],
      "text/plain": [
       "                cif        category      turnover  transaction_count  \\\n",
       "count  1.000000e+06  1000000.000000  1.000000e+06     1000000.000000   \n",
       "mean   9.050000e+07        0.400530  2.937814e+07          28.136660   \n",
       "std    2.886753e+05        0.663837  4.650136e+08          55.464787   \n",
       "min    9.000000e+07        0.000000  0.000000e+00           0.000000   \n",
       "25%    9.025000e+07        0.000000  9.053680e+04           1.000000   \n",
       "50%    9.050000e+07        0.000000  4.316990e+05           3.000000   \n",
       "75%    9.075000e+07        1.000000  1.529052e+06          30.000000   \n",
       "max    9.100000e+07        2.000000  1.308870e+11        1472.000000   \n",
       "\n",
       "             io_ratio             age     nationality          is_pep  \\\n",
       "count  1000000.000000  1000000.000000  1000000.000000  1000000.000000   \n",
       "mean         0.331490       31.726469       91.863301        0.006851   \n",
       "std          0.308724       25.749573       43.678328        0.082487   \n",
       "min          0.000000        0.000000       24.000000        0.000000   \n",
       "25%          0.000000        0.000000       82.000000        0.000000   \n",
       "50%          0.309917       32.000000       90.000000        0.000000   \n",
       "75%          0.500000       54.000000      123.000000        0.000000   \n",
       "max          1.000000      126.000000      187.000000        1.000000   \n",
       "\n",
       "       inactive_days_average  inactive_days_max   n_of_accounts  \\\n",
       "count         1000000.000000     1000000.000000  1000000.000000   \n",
       "mean               44.768997         114.264231        1.996756   \n",
       "std                52.223190          77.830115        0.999137   \n",
       "min                 0.120000           1.000000        1.000000   \n",
       "25%                 5.680000          72.000000        1.000000   \n",
       "50%                28.220000          95.000000        2.000000   \n",
       "75%                63.520000         131.000000        3.000000   \n",
       "max              1281.110000        1295.000000       10.000000   \n",
       "\n",
       "       distinct_counterparties    channel_risk  atm_withdrawal   atm_deposit  \\\n",
       "count           1000000.000000  1000000.000000    1.000000e+06  1.000000e+06   \n",
       "mean                  6.246905        0.255042    3.212197e+06  1.078914e+05   \n",
       "std                  16.322718        0.174461    1.820511e+08  3.420959e+06   \n",
       "min                   0.000000        0.000026    0.000000e+00  0.000000e+00   \n",
       "25%                   1.000000        0.122934    1.592175e+02  2.249756e+01   \n",
       "50%                   1.000000        0.217838    4.934665e+03  4.699416e+02   \n",
       "75%                   4.000000        0.348258    4.920691e+04  3.577423e+03   \n",
       "max                 700.000000        0.998780    1.186690e+11  2.155327e+09   \n",
       "\n",
       "       io_atm_ratio  \n",
       "count  1.000000e+06  \n",
       "mean   1.600621e+11  \n",
       "std    3.666637e+11  \n",
       "min    0.000000e+00  \n",
       "25%    2.913382e-03  \n",
       "50%    4.062977e-02  \n",
       "75%    2.126432e+00  \n",
       "max    1.000000e+12  "
      ]
     },
     "execution_count": 97,
     "metadata": {},
     "output_type": "execute_result"
    }
   ],
   "source": [
    "data.describe()"
   ]
  },
  {
   "cell_type": "markdown",
   "metadata": {},
   "source": [
    "## Individual"
   ]
  },
  {
   "cell_type": "code",
   "execution_count": 64,
   "metadata": {},
   "outputs": [
    {
     "name": "stderr",
     "output_type": "stream",
     "text": [
      "/Users/lamiakasmi/anaconda3/lib/python3.7/site-packages/pandas/core/frame.py:3930: SettingWithCopyWarning: \n",
      "A value is trying to be set on a copy of a slice from a DataFrame\n",
      "\n",
      "See the caveats in the documentation: http://pandas.pydata.org/pandas-docs/stable/indexing.html#indexing-view-versus-copy\n",
      "  errors=errors)\n"
     ]
    }
   ],
   "source": [
    "df0.drop(columns=['category'], inplace = True)\n",
    "df1.drop(columns=['category','age','is_pep'], inplace = True)\n",
    "df2.drop(columns=['category','age','is_pep'], inplace = True)"
   ]
  },
  {
   "cell_type": "code",
   "execution_count": 65,
   "metadata": {},
   "outputs": [
    {
     "data": {
      "text/plain": [
       "<matplotlib.axes._subplots.AxesSubplot at 0x1a246b1e80>"
      ]
     },
     "execution_count": 65,
     "metadata": {},
     "output_type": "execute_result"
    },
    {
     "data": {
      "image/png": "[encoded data removed]",
      "text/plain": [
       "<Figure size 648x576 with 2 Axes>"
      ]
     },
     "metadata": {
      "needs_background": "light"
     },
     "output_type": "display_data"
    }
   ],
   "source": [
    "corrmat = df0.corr()\n",
    "f, ax = plt.subplots(figsize =(9, 8))\n",
    "sns.heatmap(corrmat, ax = ax, cmap ='YlGnBu', linewidths = 0.1)"
   ]
  },
  {
   "cell_type": "markdown",
   "metadata": {},
   "source": [
    "## Company"
   ]
  },
  {
   "cell_type": "code",
   "execution_count": 56,
   "metadata": {},
   "outputs": [
    {
     "data": {
      "text/plain": [
       "<matplotlib.axes._subplots.AxesSubplot at 0x1a23d95588>"
      ]
     },
     "execution_count": 56,
     "metadata": {},
     "output_type": "execute_result"
    },
    {
     "data": {
      "image/png": "[encoded data removed]",
      "text/plain": [
       "<Figure size 648x576 with 2 Axes>"
      ]
     },
     "metadata": {
      "needs_background": "light"
     },
     "output_type": "display_data"
    }
   ],
   "source": [
    "corrmat = df1.corr()\n",
    "f, ax = plt.subplots(figsize =(9, 8))\n",
    "sns.heatmap(corrmat, ax = ax, cmap ='YlGnBu', linewidths = 0.1)"
   ]
  },
  {
   "cell_type": "markdown",
   "metadata": {},
   "source": [
    "## Other institution"
   ]
  },
  {
   "cell_type": "code",
   "execution_count": 58,
   "metadata": {},
   "outputs": [
    {
     "data": {
      "text/plain": [
       "<matplotlib.axes._subplots.AxesSubplot at 0x1a250a3b00>"
      ]
     },
     "execution_count": 58,
     "metadata": {},
     "output_type": "execute_result"
    },
    {
     "data": {
      "image/png": "[encoded data removed]",
      "text/plain": [
       "<Figure size 648x576 with 2 Axes>"
      ]
     },
     "metadata": {
      "needs_background": "light"
     },
     "output_type": "display_data"
    }
   ],
   "source": [
    "corrmat = df2.corr()\n",
    "f, ax = plt.subplots(figsize =(9, 8))\n",
    "sns.heatmap(corrmat, ax = ax, cmap ='YlGnBu', linewidths = 0.1)"
   ]
  },
  {
   "cell_type": "code",
   "execution_count": 29,
   "metadata": {},
   "outputs": [
    {
     "data": {
      "text/plain": [
       "685"
      ]
     },
     "execution_count": 29,
     "metadata": {},
     "output_type": "execute_result"
    }
   ],
   "source": [
    "df0.category.count()"
   ]
  },
  {
   "cell_type": "code",
   "execution_count": 30,
   "metadata": {},
   "outputs": [
    {
     "data": {
      "text/plain": [
       "194"
      ]
     },
     "execution_count": 30,
     "metadata": {},
     "output_type": "execute_result"
    }
   ],
   "source": [
    "df1.category.count()"
   ]
  },
  {
   "cell_type": "code",
   "execution_count": 31,
   "metadata": {},
   "outputs": [
    {
     "data": {
      "text/plain": [
       "121"
      ]
     },
     "execution_count": 31,
     "metadata": {},
     "output_type": "execute_result"
    }
   ],
   "source": [
    "df2.category.count()"
   ]
  },
  {
   "cell_type": "code",
   "execution_count": 39,
   "metadata": {},
   "outputs": [
    {
     "data": {
      "text/plain": [
       "cif                        1000\n",
       "category                   1000\n",
       "turnover                   1000\n",
       "transaction_count          1000\n",
       "io_ratio                   1000\n",
       "age                        1000\n",
       "nationality                1000\n",
       "is_pep                     1000\n",
       "inactive_days_average      1000\n",
       "inactive_days_max          1000\n",
       "n_of_accounts              1000\n",
       "distinct_counterparties    1000\n",
       "channel_risk               1000\n",
       "atm_withdrawal             1000\n",
       "atm_deposit                1000\n",
       "dtype: int64"
      ]
     },
     "execution_count": 39,
     "metadata": {},
     "output_type": "execute_result"
    }
   ],
   "source": []
  },
  {
   "cell_type": "code",
   "execution_count": null,
   "metadata": {},
   "outputs": [],
   "source": []
  }
 ],
 "metadata": {
  "kernelspec": {
   "display_name": "Python 3",
   "language": "python",
   "name": "python3"
  },
  "language_info": {
   "codemirror_mode": {
    "name": "ipython",
    "version": 3
   },
   "file_extension": ".py",
   "mimetype": "text/x-python",
   "name": "python",
   "nbconvert_exporter": "python",
   "pygments_lexer": "ipython3",
   "version": "3.7.1"
  }
 },
 "nbformat": 4,
 "nbformat_minor": 2
}
