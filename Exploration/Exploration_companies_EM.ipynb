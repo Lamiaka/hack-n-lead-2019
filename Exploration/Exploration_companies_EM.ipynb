{
 "cells": [
  {
   "cell_type": "code",
   "execution_count": 1,
   "metadata": {},
   "outputs": [],
   "source": [
    "#basic data and plotting libraries\n",
    "import pandas as pd\n",
    "import matplotlib.pyplot as plt\n",
    "import numpy as np\n",
    "from scipy.stats import norm\n",
    "import seaborn as sns\n",
    "\n",
    "#clustering and utilities\n",
    "from sklearn.cluster import KMeans\n",
    "from sklearn.pipeline import make_pipeline\n",
    "from sklearn.preprocessing import MinMaxScaler, StandardScaler\n",
    "mmscaler = MinMaxScaler()\n",
    "sscaler = StandardScaler()\n",
    "\n",
    "#clustering evaluation\n",
    "from sklearn import metrics\n",
    "from sklearn.metrics import pairwise_distances\n",
    "from sklearn.metrics import davies_bouldin_score"
   ]
  },
  {
   "cell_type": "markdown",
   "metadata": {},
   "source": [
    "# Getting data, basic description"
   ]
  },
  {
   "cell_type": "code",
   "execution_count": 72,
   "metadata": {},
   "outputs": [],
   "source": [
    "data = pd.read_csv('../Data/large.csv')"
   ]
  },
  {
   "cell_type": "code",
   "execution_count": 73,
   "metadata": {},
   "outputs": [
    {
     "data": {
      "text/html": [
       "<div>\n",
       "<style scoped>\n",
       "    .dataframe tbody tr th:only-of-type {\n",
       "        vertical-align: middle;\n",
       "    }\n",
       "\n",
       "    .dataframe tbody tr th {\n",
       "        vertical-align: top;\n",
       "    }\n",
       "\n",
       "    .dataframe thead th {\n",
       "        text-align: right;\n",
       "    }\n",
       "</style>\n",
       "<table border=\"1\" class=\"dataframe\">\n",
       "  <thead>\n",
       "    <tr style=\"text-align: right;\">\n",
       "      <th></th>\n",
       "      <th>cif</th>\n",
       "      <th>category</th>\n",
       "      <th>turnover</th>\n",
       "      <th>transaction_count</th>\n",
       "      <th>io_ratio</th>\n",
       "      <th>age</th>\n",
       "      <th>nationality</th>\n",
       "      <th>is_pep</th>\n",
       "      <th>inactive_days_average</th>\n",
       "      <th>inactive_days_max</th>\n",
       "      <th>n_of_accounts</th>\n",
       "      <th>distinct_counterparties</th>\n",
       "      <th>channel_risk</th>\n",
       "      <th>atm_withdrawal</th>\n",
       "      <th>atm_deposit</th>\n",
       "    </tr>\n",
       "  </thead>\n",
       "  <tbody>\n",
       "    <tr>\n",
       "      <td>0</td>\n",
       "      <td>90000000</td>\n",
       "      <td>0</td>\n",
       "      <td>217673.05</td>\n",
       "      <td>125</td>\n",
       "      <td>0.304000</td>\n",
       "      <td>40</td>\n",
       "      <td>123</td>\n",
       "      <td>0</td>\n",
       "      <td>1.66</td>\n",
       "      <td>88</td>\n",
       "      <td>1</td>\n",
       "      <td>3</td>\n",
       "      <td>0.254742</td>\n",
       "      <td>1937.15</td>\n",
       "      <td>2161.790028</td>\n",
       "    </tr>\n",
       "    <tr>\n",
       "      <td>1</td>\n",
       "      <td>90000001</td>\n",
       "      <td>0</td>\n",
       "      <td>57.42</td>\n",
       "      <td>20</td>\n",
       "      <td>0.250000</td>\n",
       "      <td>17</td>\n",
       "      <td>90</td>\n",
       "      <td>0</td>\n",
       "      <td>7.32</td>\n",
       "      <td>88</td>\n",
       "      <td>4</td>\n",
       "      <td>6</td>\n",
       "      <td>0.393174</td>\n",
       "      <td>4.96</td>\n",
       "      <td>0.893866</td>\n",
       "    </tr>\n",
       "    <tr>\n",
       "      <td>2</td>\n",
       "      <td>90000002</td>\n",
       "      <td>0</td>\n",
       "      <td>1465076.90</td>\n",
       "      <td>1</td>\n",
       "      <td>0.000000</td>\n",
       "      <td>66</td>\n",
       "      <td>123</td>\n",
       "      <td>0</td>\n",
       "      <td>24.08</td>\n",
       "      <td>25</td>\n",
       "      <td>2</td>\n",
       "      <td>1</td>\n",
       "      <td>0.422991</td>\n",
       "      <td>0.00</td>\n",
       "      <td>229.333494</td>\n",
       "    </tr>\n",
       "    <tr>\n",
       "      <td>3</td>\n",
       "      <td>90000003</td>\n",
       "      <td>0</td>\n",
       "      <td>429840.54</td>\n",
       "      <td>46</td>\n",
       "      <td>0.239130</td>\n",
       "      <td>43</td>\n",
       "      <td>90</td>\n",
       "      <td>0</td>\n",
       "      <td>3.88</td>\n",
       "      <td>86</td>\n",
       "      <td>2</td>\n",
       "      <td>17</td>\n",
       "      <td>0.296019</td>\n",
       "      <td>43123.33</td>\n",
       "      <td>3121.939606</td>\n",
       "    </tr>\n",
       "    <tr>\n",
       "      <td>4</td>\n",
       "      <td>90000004</td>\n",
       "      <td>2</td>\n",
       "      <td>93356190.65</td>\n",
       "      <td>63</td>\n",
       "      <td>0.365079</td>\n",
       "      <td>0</td>\n",
       "      <td>186</td>\n",
       "      <td>0</td>\n",
       "      <td>2.77</td>\n",
       "      <td>100</td>\n",
       "      <td>1</td>\n",
       "      <td>1</td>\n",
       "      <td>0.067511</td>\n",
       "      <td>1814340.25</td>\n",
       "      <td>603026.545700</td>\n",
       "    </tr>\n",
       "  </tbody>\n",
       "</table>\n",
       "</div>"
      ],
      "text/plain": [
       "        cif  category     turnover  transaction_count  io_ratio  age  \\\n",
       "0  90000000         0    217673.05                125  0.304000   40   \n",
       "1  90000001         0        57.42                 20  0.250000   17   \n",
       "2  90000002         0   1465076.90                  1  0.000000   66   \n",
       "3  90000003         0    429840.54                 46  0.239130   43   \n",
       "4  90000004         2  93356190.65                 63  0.365079    0   \n",
       "\n",
       "   nationality  is_pep  inactive_days_average  inactive_days_max  \\\n",
       "0          123       0                   1.66                 88   \n",
       "1           90       0                   7.32                 88   \n",
       "2          123       0                  24.08                 25   \n",
       "3           90       0                   3.88                 86   \n",
       "4          186       0                   2.77                100   \n",
       "\n",
       "   n_of_accounts  distinct_counterparties  channel_risk  atm_withdrawal  \\\n",
       "0              1                        3      0.254742         1937.15   \n",
       "1              4                        6      0.393174            4.96   \n",
       "2              2                        1      0.422991            0.00   \n",
       "3              2                       17      0.296019        43123.33   \n",
       "4              1                        1      0.067511      1814340.25   \n",
       "\n",
       "     atm_deposit  \n",
       "0    2161.790028  \n",
       "1       0.893866  \n",
       "2     229.333494  \n",
       "3    3121.939606  \n",
       "4  603026.545700  "
      ]
     },
     "execution_count": 73,
     "metadata": {},
     "output_type": "execute_result"
    }
   ],
   "source": [
    "data.head()"
   ]
  },
  {
   "cell_type": "code",
   "execution_count": 74,
   "metadata": {},
   "outputs": [
    {
     "data": {
      "text/html": [
       "<div>\n",
       "<style scoped>\n",
       "    .dataframe tbody tr th:only-of-type {\n",
       "        vertical-align: middle;\n",
       "    }\n",
       "\n",
       "    .dataframe tbody tr th {\n",
       "        vertical-align: top;\n",
       "    }\n",
       "\n",
       "    .dataframe thead th {\n",
       "        text-align: right;\n",
       "    }\n",
       "</style>\n",
       "<table border=\"1\" class=\"dataframe\">\n",
       "  <thead>\n",
       "    <tr style=\"text-align: right;\">\n",
       "      <th></th>\n",
       "      <th>cif</th>\n",
       "      <th>category</th>\n",
       "      <th>turnover</th>\n",
       "      <th>transaction_count</th>\n",
       "      <th>io_ratio</th>\n",
       "      <th>age</th>\n",
       "      <th>nationality</th>\n",
       "      <th>is_pep</th>\n",
       "      <th>inactive_days_average</th>\n",
       "      <th>inactive_days_max</th>\n",
       "      <th>n_of_accounts</th>\n",
       "      <th>distinct_counterparties</th>\n",
       "      <th>channel_risk</th>\n",
       "      <th>atm_withdrawal</th>\n",
       "      <th>atm_deposit</th>\n",
       "    </tr>\n",
       "  </thead>\n",
       "  <tbody>\n",
       "    <tr>\n",
       "      <td>count</td>\n",
       "      <td>1.000000e+06</td>\n",
       "      <td>1000000.000000</td>\n",
       "      <td>1.000000e+06</td>\n",
       "      <td>1000000.000000</td>\n",
       "      <td>1000000.000000</td>\n",
       "      <td>1000000.000000</td>\n",
       "      <td>1000000.000000</td>\n",
       "      <td>1000000.000000</td>\n",
       "      <td>1000000.000000</td>\n",
       "      <td>1000000.000000</td>\n",
       "      <td>1000000.000000</td>\n",
       "      <td>1000000.000000</td>\n",
       "      <td>1000000.000000</td>\n",
       "      <td>1.000000e+06</td>\n",
       "      <td>1.000000e+06</td>\n",
       "    </tr>\n",
       "    <tr>\n",
       "      <td>mean</td>\n",
       "      <td>9.050000e+07</td>\n",
       "      <td>0.400530</td>\n",
       "      <td>2.937814e+07</td>\n",
       "      <td>28.136660</td>\n",
       "      <td>0.331490</td>\n",
       "      <td>31.726469</td>\n",
       "      <td>91.863301</td>\n",
       "      <td>0.006851</td>\n",
       "      <td>44.768997</td>\n",
       "      <td>114.264231</td>\n",
       "      <td>1.996756</td>\n",
       "      <td>6.246905</td>\n",
       "      <td>0.255042</td>\n",
       "      <td>3.212197e+06</td>\n",
       "      <td>1.078914e+05</td>\n",
       "    </tr>\n",
       "    <tr>\n",
       "      <td>std</td>\n",
       "      <td>2.886753e+05</td>\n",
       "      <td>0.663837</td>\n",
       "      <td>4.650136e+08</td>\n",
       "      <td>55.464787</td>\n",
       "      <td>0.308724</td>\n",
       "      <td>25.749573</td>\n",
       "      <td>43.678328</td>\n",
       "      <td>0.082487</td>\n",
       "      <td>52.223190</td>\n",
       "      <td>77.830115</td>\n",
       "      <td>0.999137</td>\n",
       "      <td>16.322718</td>\n",
       "      <td>0.174461</td>\n",
       "      <td>1.820511e+08</td>\n",
       "      <td>3.420959e+06</td>\n",
       "    </tr>\n",
       "    <tr>\n",
       "      <td>min</td>\n",
       "      <td>9.000000e+07</td>\n",
       "      <td>0.000000</td>\n",
       "      <td>0.000000e+00</td>\n",
       "      <td>0.000000</td>\n",
       "      <td>0.000000</td>\n",
       "      <td>0.000000</td>\n",
       "      <td>24.000000</td>\n",
       "      <td>0.000000</td>\n",
       "      <td>0.120000</td>\n",
       "      <td>1.000000</td>\n",
       "      <td>1.000000</td>\n",
       "      <td>0.000000</td>\n",
       "      <td>0.000026</td>\n",
       "      <td>0.000000e+00</td>\n",
       "      <td>0.000000e+00</td>\n",
       "    </tr>\n",
       "    <tr>\n",
       "      <td>25%</td>\n",
       "      <td>9.025000e+07</td>\n",
       "      <td>0.000000</td>\n",
       "      <td>9.053680e+04</td>\n",
       "      <td>1.000000</td>\n",
       "      <td>0.000000</td>\n",
       "      <td>0.000000</td>\n",
       "      <td>82.000000</td>\n",
       "      <td>0.000000</td>\n",
       "      <td>5.680000</td>\n",
       "      <td>72.000000</td>\n",
       "      <td>1.000000</td>\n",
       "      <td>1.000000</td>\n",
       "      <td>0.122934</td>\n",
       "      <td>1.592175e+02</td>\n",
       "      <td>2.249756e+01</td>\n",
       "    </tr>\n",
       "    <tr>\n",
       "      <td>50%</td>\n",
       "      <td>9.050000e+07</td>\n",
       "      <td>0.000000</td>\n",
       "      <td>4.316990e+05</td>\n",
       "      <td>3.000000</td>\n",
       "      <td>0.309917</td>\n",
       "      <td>32.000000</td>\n",
       "      <td>90.000000</td>\n",
       "      <td>0.000000</td>\n",
       "      <td>28.220000</td>\n",
       "      <td>95.000000</td>\n",
       "      <td>2.000000</td>\n",
       "      <td>1.000000</td>\n",
       "      <td>0.217838</td>\n",
       "      <td>4.934665e+03</td>\n",
       "      <td>4.699416e+02</td>\n",
       "    </tr>\n",
       "    <tr>\n",
       "      <td>75%</td>\n",
       "      <td>9.075000e+07</td>\n",
       "      <td>1.000000</td>\n",
       "      <td>1.529052e+06</td>\n",
       "      <td>30.000000</td>\n",
       "      <td>0.500000</td>\n",
       "      <td>54.000000</td>\n",
       "      <td>123.000000</td>\n",
       "      <td>0.000000</td>\n",
       "      <td>63.520000</td>\n",
       "      <td>131.000000</td>\n",
       "      <td>3.000000</td>\n",
       "      <td>4.000000</td>\n",
       "      <td>0.348258</td>\n",
       "      <td>4.920691e+04</td>\n",
       "      <td>3.577423e+03</td>\n",
       "    </tr>\n",
       "    <tr>\n",
       "      <td>max</td>\n",
       "      <td>9.100000e+07</td>\n",
       "      <td>2.000000</td>\n",
       "      <td>1.308870e+11</td>\n",
       "      <td>1472.000000</td>\n",
       "      <td>1.000000</td>\n",
       "      <td>126.000000</td>\n",
       "      <td>187.000000</td>\n",
       "      <td>1.000000</td>\n",
       "      <td>1281.110000</td>\n",
       "      <td>1295.000000</td>\n",
       "      <td>10.000000</td>\n",
       "      <td>700.000000</td>\n",
       "      <td>0.998780</td>\n",
       "      <td>1.186690e+11</td>\n",
       "      <td>2.155327e+09</td>\n",
       "    </tr>\n",
       "  </tbody>\n",
       "</table>\n",
       "</div>"
      ],
      "text/plain": [
       "                cif        category      turnover  transaction_count  \\\n",
       "count  1.000000e+06  1000000.000000  1.000000e+06     1000000.000000   \n",
       "mean   9.050000e+07        0.400530  2.937814e+07          28.136660   \n",
       "std    2.886753e+05        0.663837  4.650136e+08          55.464787   \n",
       "min    9.000000e+07        0.000000  0.000000e+00           0.000000   \n",
       "25%    9.025000e+07        0.000000  9.053680e+04           1.000000   \n",
       "50%    9.050000e+07        0.000000  4.316990e+05           3.000000   \n",
       "75%    9.075000e+07        1.000000  1.529052e+06          30.000000   \n",
       "max    9.100000e+07        2.000000  1.308870e+11        1472.000000   \n",
       "\n",
       "             io_ratio             age     nationality          is_pep  \\\n",
       "count  1000000.000000  1000000.000000  1000000.000000  1000000.000000   \n",
       "mean         0.331490       31.726469       91.863301        0.006851   \n",
       "std          0.308724       25.749573       43.678328        0.082487   \n",
       "min          0.000000        0.000000       24.000000        0.000000   \n",
       "25%          0.000000        0.000000       82.000000        0.000000   \n",
       "50%          0.309917       32.000000       90.000000        0.000000   \n",
       "75%          0.500000       54.000000      123.000000        0.000000   \n",
       "max          1.000000      126.000000      187.000000        1.000000   \n",
       "\n",
       "       inactive_days_average  inactive_days_max   n_of_accounts  \\\n",
       "count         1000000.000000     1000000.000000  1000000.000000   \n",
       "mean               44.768997         114.264231        1.996756   \n",
       "std                52.223190          77.830115        0.999137   \n",
       "min                 0.120000           1.000000        1.000000   \n",
       "25%                 5.680000          72.000000        1.000000   \n",
       "50%                28.220000          95.000000        2.000000   \n",
       "75%                63.520000         131.000000        3.000000   \n",
       "max              1281.110000        1295.000000       10.000000   \n",
       "\n",
       "       distinct_counterparties    channel_risk  atm_withdrawal   atm_deposit  \n",
       "count           1000000.000000  1000000.000000    1.000000e+06  1.000000e+06  \n",
       "mean                  6.246905        0.255042    3.212197e+06  1.078914e+05  \n",
       "std                  16.322718        0.174461    1.820511e+08  3.420959e+06  \n",
       "min                   0.000000        0.000026    0.000000e+00  0.000000e+00  \n",
       "25%                   1.000000        0.122934    1.592175e+02  2.249756e+01  \n",
       "50%                   1.000000        0.217838    4.934665e+03  4.699416e+02  \n",
       "75%                   4.000000        0.348258    4.920691e+04  3.577423e+03  \n",
       "max                 700.000000        0.998780    1.186690e+11  2.155327e+09  "
      ]
     },
     "execution_count": 74,
     "metadata": {},
     "output_type": "execute_result"
    }
   ],
   "source": [
    "data.describe()"
   ]
  },
  {
   "cell_type": "markdown",
   "metadata": {},
   "source": [
    "## The customer id will be our index"
   ]
  },
  {
   "cell_type": "code",
   "execution_count": 3,
   "metadata": {},
   "outputs": [
    {
     "data": {
      "text/html": [
       "<div>\n",
       "<style scoped>\n",
       "    .dataframe tbody tr th:only-of-type {\n",
       "        vertical-align: middle;\n",
       "    }\n",
       "\n",
       "    .dataframe tbody tr th {\n",
       "        vertical-align: top;\n",
       "    }\n",
       "\n",
       "    .dataframe thead th {\n",
       "        text-align: right;\n",
       "    }\n",
       "</style>\n",
       "<table border=\"1\" class=\"dataframe\">\n",
       "  <thead>\n",
       "    <tr style=\"text-align: right;\">\n",
       "      <th></th>\n",
       "      <th>category</th>\n",
       "      <th>turnover</th>\n",
       "      <th>transaction_count</th>\n",
       "      <th>io_ratio</th>\n",
       "      <th>age</th>\n",
       "      <th>nationality</th>\n",
       "      <th>is_pep</th>\n",
       "      <th>inactive_days_average</th>\n",
       "      <th>inactive_days_max</th>\n",
       "      <th>n_of_accounts</th>\n",
       "      <th>distinct_counterparties</th>\n",
       "      <th>channel_risk</th>\n",
       "      <th>atm_withdrawal</th>\n",
       "      <th>atm_deposit</th>\n",
       "    </tr>\n",
       "    <tr>\n",
       "      <th>cif</th>\n",
       "      <th></th>\n",
       "      <th></th>\n",
       "      <th></th>\n",
       "      <th></th>\n",
       "      <th></th>\n",
       "      <th></th>\n",
       "      <th></th>\n",
       "      <th></th>\n",
       "      <th></th>\n",
       "      <th></th>\n",
       "      <th></th>\n",
       "      <th></th>\n",
       "      <th></th>\n",
       "      <th></th>\n",
       "    </tr>\n",
       "  </thead>\n",
       "  <tbody>\n",
       "    <tr>\n",
       "      <td>90000000</td>\n",
       "      <td>0</td>\n",
       "      <td>217673.05</td>\n",
       "      <td>125</td>\n",
       "      <td>0.304000</td>\n",
       "      <td>40</td>\n",
       "      <td>123</td>\n",
       "      <td>0</td>\n",
       "      <td>1.66</td>\n",
       "      <td>88</td>\n",
       "      <td>1</td>\n",
       "      <td>3</td>\n",
       "      <td>0.254742</td>\n",
       "      <td>1937.15</td>\n",
       "      <td>2161.790028</td>\n",
       "    </tr>\n",
       "    <tr>\n",
       "      <td>90000001</td>\n",
       "      <td>0</td>\n",
       "      <td>57.42</td>\n",
       "      <td>20</td>\n",
       "      <td>0.250000</td>\n",
       "      <td>17</td>\n",
       "      <td>90</td>\n",
       "      <td>0</td>\n",
       "      <td>7.32</td>\n",
       "      <td>88</td>\n",
       "      <td>4</td>\n",
       "      <td>6</td>\n",
       "      <td>0.393174</td>\n",
       "      <td>4.96</td>\n",
       "      <td>0.893866</td>\n",
       "    </tr>\n",
       "    <tr>\n",
       "      <td>90000002</td>\n",
       "      <td>0</td>\n",
       "      <td>1465076.90</td>\n",
       "      <td>1</td>\n",
       "      <td>0.000000</td>\n",
       "      <td>66</td>\n",
       "      <td>123</td>\n",
       "      <td>0</td>\n",
       "      <td>24.08</td>\n",
       "      <td>25</td>\n",
       "      <td>2</td>\n",
       "      <td>1</td>\n",
       "      <td>0.422991</td>\n",
       "      <td>0.00</td>\n",
       "      <td>229.333494</td>\n",
       "    </tr>\n",
       "    <tr>\n",
       "      <td>90000003</td>\n",
       "      <td>0</td>\n",
       "      <td>429840.54</td>\n",
       "      <td>46</td>\n",
       "      <td>0.239130</td>\n",
       "      <td>43</td>\n",
       "      <td>90</td>\n",
       "      <td>0</td>\n",
       "      <td>3.88</td>\n",
       "      <td>86</td>\n",
       "      <td>2</td>\n",
       "      <td>17</td>\n",
       "      <td>0.296019</td>\n",
       "      <td>43123.33</td>\n",
       "      <td>3121.939606</td>\n",
       "    </tr>\n",
       "    <tr>\n",
       "      <td>90000004</td>\n",
       "      <td>2</td>\n",
       "      <td>93356190.65</td>\n",
       "      <td>63</td>\n",
       "      <td>0.365079</td>\n",
       "      <td>0</td>\n",
       "      <td>186</td>\n",
       "      <td>0</td>\n",
       "      <td>2.77</td>\n",
       "      <td>100</td>\n",
       "      <td>1</td>\n",
       "      <td>1</td>\n",
       "      <td>0.067511</td>\n",
       "      <td>1814340.25</td>\n",
       "      <td>603026.545700</td>\n",
       "    </tr>\n",
       "    <tr>\n",
       "      <td>...</td>\n",
       "      <td>...</td>\n",
       "      <td>...</td>\n",
       "      <td>...</td>\n",
       "      <td>...</td>\n",
       "      <td>...</td>\n",
       "      <td>...</td>\n",
       "      <td>...</td>\n",
       "      <td>...</td>\n",
       "      <td>...</td>\n",
       "      <td>...</td>\n",
       "      <td>...</td>\n",
       "      <td>...</td>\n",
       "      <td>...</td>\n",
       "      <td>...</td>\n",
       "    </tr>\n",
       "    <tr>\n",
       "      <td>90999995</td>\n",
       "      <td>0</td>\n",
       "      <td>490493.11</td>\n",
       "      <td>2</td>\n",
       "      <td>0.500000</td>\n",
       "      <td>24</td>\n",
       "      <td>32</td>\n",
       "      <td>0</td>\n",
       "      <td>61.84</td>\n",
       "      <td>62</td>\n",
       "      <td>1</td>\n",
       "      <td>1</td>\n",
       "      <td>0.041824</td>\n",
       "      <td>9045.30</td>\n",
       "      <td>354.923765</td>\n",
       "    </tr>\n",
       "    <tr>\n",
       "      <td>90999996</td>\n",
       "      <td>1</td>\n",
       "      <td>68851482.08</td>\n",
       "      <td>2</td>\n",
       "      <td>0.500000</td>\n",
       "      <td>0</td>\n",
       "      <td>151</td>\n",
       "      <td>0</td>\n",
       "      <td>48.11</td>\n",
       "      <td>145</td>\n",
       "      <td>1</td>\n",
       "      <td>1</td>\n",
       "      <td>0.098501</td>\n",
       "      <td>8862003.26</td>\n",
       "      <td>40738.246800</td>\n",
       "    </tr>\n",
       "    <tr>\n",
       "      <td>90999997</td>\n",
       "      <td>1</td>\n",
       "      <td>20814445.81</td>\n",
       "      <td>3</td>\n",
       "      <td>0.333333</td>\n",
       "      <td>0</td>\n",
       "      <td>186</td>\n",
       "      <td>0</td>\n",
       "      <td>87.81</td>\n",
       "      <td>176</td>\n",
       "      <td>2</td>\n",
       "      <td>1</td>\n",
       "      <td>0.383976</td>\n",
       "      <td>694.16</td>\n",
       "      <td>122913.123300</td>\n",
       "    </tr>\n",
       "    <tr>\n",
       "      <td>90999998</td>\n",
       "      <td>1</td>\n",
       "      <td>1960892.02</td>\n",
       "      <td>1</td>\n",
       "      <td>0.000000</td>\n",
       "      <td>0</td>\n",
       "      <td>32</td>\n",
       "      <td>0</td>\n",
       "      <td>13.69</td>\n",
       "      <td>28</td>\n",
       "      <td>2</td>\n",
       "      <td>1</td>\n",
       "      <td>0.063274</td>\n",
       "      <td>0.00</td>\n",
       "      <td>267.506136</td>\n",
       "    </tr>\n",
       "    <tr>\n",
       "      <td>90999999</td>\n",
       "      <td>0</td>\n",
       "      <td>554007.75</td>\n",
       "      <td>2</td>\n",
       "      <td>0.500000</td>\n",
       "      <td>82</td>\n",
       "      <td>125</td>\n",
       "      <td>0</td>\n",
       "      <td>64.00</td>\n",
       "      <td>129</td>\n",
       "      <td>2</td>\n",
       "      <td>1</td>\n",
       "      <td>0.260546</td>\n",
       "      <td>774.96</td>\n",
       "      <td>4943.504313</td>\n",
       "    </tr>\n",
       "  </tbody>\n",
       "</table>\n",
       "<p>1000000 rows × 14 columns</p>\n",
       "</div>"
      ],
      "text/plain": [
       "          category     turnover  transaction_count  io_ratio  age  \\\n",
       "cif                                                                 \n",
       "90000000         0    217673.05                125  0.304000   40   \n",
       "90000001         0        57.42                 20  0.250000   17   \n",
       "90000002         0   1465076.90                  1  0.000000   66   \n",
       "90000003         0    429840.54                 46  0.239130   43   \n",
       "90000004         2  93356190.65                 63  0.365079    0   \n",
       "...            ...          ...                ...       ...  ...   \n",
       "90999995         0    490493.11                  2  0.500000   24   \n",
       "90999996         1  68851482.08                  2  0.500000    0   \n",
       "90999997         1  20814445.81                  3  0.333333    0   \n",
       "90999998         1   1960892.02                  1  0.000000    0   \n",
       "90999999         0    554007.75                  2  0.500000   82   \n",
       "\n",
       "          nationality  is_pep  inactive_days_average  inactive_days_max  \\\n",
       "cif                                                                       \n",
       "90000000          123       0                   1.66                 88   \n",
       "90000001           90       0                   7.32                 88   \n",
       "90000002          123       0                  24.08                 25   \n",
       "90000003           90       0                   3.88                 86   \n",
       "90000004          186       0                   2.77                100   \n",
       "...               ...     ...                    ...                ...   \n",
       "90999995           32       0                  61.84                 62   \n",
       "90999996          151       0                  48.11                145   \n",
       "90999997          186       0                  87.81                176   \n",
       "90999998           32       0                  13.69                 28   \n",
       "90999999          125       0                  64.00                129   \n",
       "\n",
       "          n_of_accounts  distinct_counterparties  channel_risk  \\\n",
       "cif                                                              \n",
       "90000000              1                        3      0.254742   \n",
       "90000001              4                        6      0.393174   \n",
       "90000002              2                        1      0.422991   \n",
       "90000003              2                       17      0.296019   \n",
       "90000004              1                        1      0.067511   \n",
       "...                 ...                      ...           ...   \n",
       "90999995              1                        1      0.041824   \n",
       "90999996              1                        1      0.098501   \n",
       "90999997              2                        1      0.383976   \n",
       "90999998              2                        1      0.063274   \n",
       "90999999              2                        1      0.260546   \n",
       "\n",
       "          atm_withdrawal    atm_deposit  \n",
       "cif                                      \n",
       "90000000         1937.15    2161.790028  \n",
       "90000001            4.96       0.893866  \n",
       "90000002            0.00     229.333494  \n",
       "90000003        43123.33    3121.939606  \n",
       "90000004      1814340.25  603026.545700  \n",
       "...                  ...            ...  \n",
       "90999995         9045.30     354.923765  \n",
       "90999996      8862003.26   40738.246800  \n",
       "90999997          694.16  122913.123300  \n",
       "90999998            0.00     267.506136  \n",
       "90999999          774.96    4943.504313  \n",
       "\n",
       "[1000000 rows x 14 columns]"
      ]
     },
     "execution_count": 3,
     "metadata": {},
     "output_type": "execute_result"
    }
   ],
   "source": [
    "data.set_index('cif')"
   ]
  },
  {
   "cell_type": "markdown",
   "metadata": {},
   "source": [
    "# Let's divide the dataset in terms of individuals, companies, others"
   ]
  },
  {
   "cell_type": "code",
   "execution_count": 75,
   "metadata": {},
   "outputs": [],
   "source": [
    "df0 = data[data['category']==0]\n",
    "df1 = data[data['category']==1]\n",
    "df2 = data[data['category']==2]"
   ]
  },
  {
   "cell_type": "code",
   "execution_count": 76,
   "metadata": {},
   "outputs": [],
   "source": [
    "# Remove non relavant categories in the subset\n",
    "df0_n = df0.drop(columns=['category'])\n",
    "df1_n = df1.drop(columns=['category','age','is_pep'])\n",
    "df2_n = df2.drop(columns=['category','age','is_pep'])"
   ]
  },
  {
   "cell_type": "markdown",
   "metadata": {},
   "source": [
    "## Individual"
   ]
  },
  {
   "cell_type": "code",
   "execution_count": 78,
   "metadata": {},
   "outputs": [
    {
     "data": {
      "text/plain": [
       "<matplotlib.axes._subplots.AxesSubplot at 0x1a46c3b450>"
      ]
     },
     "execution_count": 78,
     "metadata": {},
     "output_type": "execute_result"
    },
    {
     "data": {
      "image/png": "[encoded data removed]",
      "text/plain": [
       "<Figure size 648x576 with 2 Axes>"
      ]
     },
     "metadata": {
      "needs_background": "light"
     },
     "output_type": "display_data"
    }
   ],
   "source": [
    "# Check correlations among features\n",
    "corrmat0 = df0_n.corr()\n",
    "f, ax = plt.subplots(figsize =(9, 8))\n",
    "sns.heatmap(corrmat0, ax = ax, cmap ='YlGnBu', linewidths = 0.1)"
   ]
  },
  {
   "cell_type": "markdown",
   "metadata": {},
   "source": [
    "## Company"
   ]
  },
  {
   "cell_type": "code",
   "execution_count": 79,
   "metadata": {},
   "outputs": [
    {
     "data": {
      "text/plain": [
       "<matplotlib.axes._subplots.AxesSubplot at 0x1a46c3f250>"
      ]
     },
     "execution_count": 79,
     "metadata": {},
     "output_type": "execute_result"
    },
    {
     "data": {
      "image/png": "[encoded data removed]",
      "text/plain": [
       "<Figure size 648x576 with 2 Axes>"
      ]
     },
     "metadata": {
      "needs_background": "light"
     },
     "output_type": "display_data"
    }
   ],
   "source": [
    "corrmat1 = df1_n.corr()\n",
    "f, ax = plt.subplots(figsize =(9, 8))\n",
    "sns.heatmap(corrmat1, ax = ax, cmap ='YlGnBu', linewidths = 0.1)"
   ]
  },
  {
   "cell_type": "markdown",
   "metadata": {},
   "source": [
    "## Other institution"
   ]
  },
  {
   "cell_type": "code",
   "execution_count": 11,
   "metadata": {},
   "outputs": [
    {
     "data": {
      "text/plain": [
       "<matplotlib.axes._subplots.AxesSubplot at 0x1a1e88f810>"
      ]
     },
     "execution_count": 11,
     "metadata": {},
     "output_type": "execute_result"
    },
    {
     "data": {
      "image/png": "[encoded data removed]",
      "text/plain": [
       "<Figure size 648x576 with 2 Axes>"
      ]
     },
     "metadata": {
      "needs_background": "light"
     },
     "output_type": "display_data"
    }
   ],
   "source": [
    "corrmat2 = df2_n.corr()\n",
    "f, ax = plt.subplots(figsize =(9, 8))\n",
    "sns.heatmap(corrmat2, ax = ax, cmap ='YlGnBu', linewidths = 0.1)"
   ]
  },
  {
   "cell_type": "markdown",
   "metadata": {},
   "source": [
    "# Focus on companies"
   ]
  },
  {
   "cell_type": "code",
   "execution_count": 87,
   "metadata": {},
   "outputs": [
    {
     "name": "stdout",
     "output_type": "stream",
     "text": [
      "Companies represent 10.0287% of the total data\n"
     ]
    }
   ],
   "source": [
    "Ncomp = df2_n.count()\n",
    "print('Companies represent ' + str(Ncomp.cif*100/data.cif.count()) + '% of the total data' )"
   ]
  },
  {
   "cell_type": "code",
   "execution_count": 88,
   "metadata": {},
   "outputs": [
    {
     "data": {
      "text/plain": [
       "<matplotlib.axes._subplots.AxesSubplot at 0x1a44993410>"
      ]
     },
     "execution_count": 88,
     "metadata": {},
     "output_type": "execute_result"
    },
    {
     "data": {
      "image/png": "[encoded data removed]",
      "text/plain": [
       "<Figure size 432x288 with 1 Axes>"
      ]
     },
     "metadata": {
      "needs_background": "light"
     },
     "output_type": "display_data"
    }
   ],
   "source": [
    "#Let's see the risk_channel ditribution - nice shape \n",
    "df2_n.channel_risk.hist(bins=100)"
   ]
  },
  {
   "cell_type": "code",
   "execution_count": 91,
   "metadata": {},
   "outputs": [
    {
     "name": "stdout",
     "output_type": "stream",
     "text": [
      "Number of high risk companies is 32559\n",
      "3.2559% of the total\n"
     ]
    }
   ],
   "source": [
    "#Put an hard cut to check some features of interest\n",
    "ncomp_hrisk = df2_n[df2_n.channel_risk>0.2].count().cif\n",
    "print('Number of high risk companies is ' + str(ncomp_hrisk))\n",
    "print(str(ncomp_hrisk*100/data.cif.count()) + '% of the total')"
   ]
  },
  {
   "cell_type": "code",
   "execution_count": 18,
   "metadata": {},
   "outputs": [
    {
     "data": {
      "text/plain": [
       "<matplotlib.axes._subplots.AxesSubplot at 0x1a3e1dbe10>"
      ]
     },
     "execution_count": 18,
     "metadata": {},
     "output_type": "execute_result"
    },
    {
     "data": {
      "image/png": "[encoded data removed]",
      "text/plain": [
       "<Figure size 432x288 with 1 Axes>"
      ]
     },
     "metadata": {
      "needs_background": "light"
     },
     "output_type": "display_data"
    }
   ],
   "source": [
    "df2_n.nationality[df2_n.channel_risk>0.3].hist(bins=196)"
   ]
  },
  {
   "cell_type": "code",
   "execution_count": 96,
   "metadata": {},
   "outputs": [
    {
     "data": {
      "text/plain": [
       "nationality\n",
       "32     2624\n",
       "82     2606\n",
       "123    1893\n",
       "90     1744\n",
       "125    1091\n",
       "166     616\n",
       "186     552\n",
       "33      220\n",
       "133      81\n",
       "187      27\n",
       "138      11\n",
       "Name: cif, dtype: int64"
      ]
     },
     "execution_count": 96,
     "metadata": {},
     "output_type": "execute_result"
    }
   ],
   "source": [
    "df2_n[df2_n.channel_risk>0.3].groupby('nationality').cif.count().sort_values(ascending=False)"
   ]
  },
  {
   "cell_type": "markdown",
   "metadata": {},
   "source": [
    "### Looks like Cabo Verde is expecially favoured to do ML https://www.knowyourcountry.com/capeverde1111"
   ]
  },
  {
   "cell_type": "code",
   "execution_count": 97,
   "metadata": {},
   "outputs": [
    {
     "data": {
      "text/plain": [
       "<matplotlib.axes._subplots.AxesSubplot at 0x1a445e3c50>"
      ]
     },
     "execution_count": 97,
     "metadata": {},
     "output_type": "execute_result"
    },
    {
     "data": {
      "image/png": "[encoded data removed]",
      "text/plain": [
       "<Figure size 432x288 with 1 Axes>"
      ]
     },
     "metadata": {
      "needs_background": "light"
     },
     "output_type": "display_data"
    }
   ],
   "source": [
    "df2_n.io_ratio[df2_n.channel_risk>0.3].hist(bins=100)"
   ]
  },
  {
   "cell_type": "markdown",
   "metadata": {},
   "source": [
    "### Having only or no incomes is also highly suspicios"
   ]
  },
  {
   "cell_type": "code",
   "execution_count": 101,
   "metadata": {},
   "outputs": [
    {
     "data": {
      "text/plain": [
       "<matplotlib.axes._subplots.AxesSubplot at 0x1a456efb50>"
      ]
     },
     "execution_count": 101,
     "metadata": {},
     "output_type": "execute_result"
    },
    {
     "data": {
      "image/png": "[encoded data removed]",
      "text/plain": [
       "<Figure size 432x288 with 1 Axes>"
      ]
     },
     "metadata": {
      "needs_background": "light"
     },
     "output_type": "display_data"
    }
   ],
   "source": [
    "df2_n.distinct_counterparties[df2_n.channel_risk>0.3].hist(bins=20)"
   ]
  },
  {
   "cell_type": "code",
   "execution_count": 105,
   "metadata": {},
   "outputs": [
    {
     "data": {
      "text/plain": [
       "<matplotlib.axes._subplots.AxesSubplot at 0x1a452db910>"
      ]
     },
     "execution_count": 105,
     "metadata": {},
     "output_type": "execute_result"
    },
    {
     "data": {
      "image/png": "[encoded data removed]",
      "text/plain": [
       "<Figure size 432x288 with 1 Axes>"
      ]
     },
     "metadata": {
      "needs_background": "light"
     },
     "output_type": "display_data"
    }
   ],
   "source": [
    "df2_n.turnover[df2_n.channel_risk>0.3].hist(bins=20)"
   ]
  },
  {
   "cell_type": "markdown",
   "metadata": {},
   "source": [
    "## A first attempt on clustering"
   ]
  },
  {
   "cell_type": "code",
   "execution_count": 107,
   "metadata": {},
   "outputs": [],
   "source": [
    "#here we transform the feature to be on the same scale\n",
    "mmscaler.fit(df2_n)\n",
    "df2_scaled = mmscaler.transform(df2_n)\n"
   ]
  },
  {
   "cell_type": "code",
   "execution_count": 108,
   "metadata": {},
   "outputs": [
    {
     "data": {
      "text/plain": [
       "array([1, 1, 1, ..., 0, 0, 0], dtype=int32)"
      ]
     },
     "execution_count": 108,
     "metadata": {},
     "output_type": "execute_result"
    }
   ],
   "source": [
    "# try brutally kmeans to see if separates bad from good\n",
    "clf = KMeans(n_clusters=2, n_init= 20)\n",
    "clf.fit_predict(df2_scaled)\n"
   ]
  },
  {
   "cell_type": "code",
   "execution_count": 109,
   "metadata": {},
   "outputs": [
    {
     "data": {
      "text/plain": [
       "0.23160401630163524"
      ]
     },
     "execution_count": 109,
     "metadata": {},
     "output_type": "execute_result"
    }
   ],
   "source": [
    "metrics.silhouette_score(df2_scaled, labels, metric='euclidean')"
   ]
  },
  {
   "cell_type": "markdown",
   "metadata": {},
   "source": [
    "# score is not so high.."
   ]
  },
  {
   "cell_type": "code",
   "execution_count": null,
   "metadata": {},
   "outputs": [],
   "source": []
  }
 ],
 "metadata": {
  "kernelspec": {
   "display_name": "Python 3",
   "language": "python",
   "name": "python3"
  },
  "language_info": {
   "codemirror_mode": {
    "name": "ipython",
    "version": 3
   },
   "file_extension": ".py",
   "mimetype": "text/x-python",
   "name": "python",
   "nbconvert_exporter": "python",
   "pygments_lexer": "ipython3",
   "version": "3.7.4"
  }
 },
 "nbformat": 4,
 "nbformat_minor": 2
}
